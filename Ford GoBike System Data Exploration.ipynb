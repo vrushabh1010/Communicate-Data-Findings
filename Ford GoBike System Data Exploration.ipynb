{
 "cells": [
  {
   "cell_type": "markdown",
   "metadata": {},
   "source": [
    "# Ford GoBike System Data Exploration\n",
    "## by Vrushabh Suchak\n",
    "\n",
    "## Introduction\n",
    "\n",
    "> Ford GoBike is the Bay Area's bike share system. Bay Area Bike Share was introduced in 2013 as a pilot program for the region, with 700 bikes and 70 stations across San Francisco and San Jose. Once expansion is complete, Ford GoBike will grow to 7,000 bikes across San Francisco, the East Bay and San Jose.\n",
    "\n",
    "> Ford GoBike, like other bike share systems, consists of a fleet of specially designed, sturdy and durable bikes that are locked into a network of docking stations throughout the city. The bikes can be unlocked from one station and returned to any other station in the system, making them ideal for one-way trips. People use bike share to commute to work or school, run errands, get to appointments or social engagements and more. It's a fun, convenient and affordable way to get around.\n",
    "\n",
    "> The bikes are available for use 24 hours/day, 7 days/week, 365 days/year and riders have access to all bikes in the network when they become a member or purchase a pass.\n",
    "\n",
    "> You can find the dataset used [here](https://s3.amazonaws.com/baywheels-data/index.html)."
   ]
  },
  {
   "cell_type": "code",
   "execution_count": 1,
   "metadata": {},
   "outputs": [],
   "source": [
    "# import all packages and set plots to be embedded inline\n",
    "import numpy as np\n",
    "import pandas as pd\n",
    "import matplotlib.pyplot as plt\n",
    "import seaborn as sb\n",
    "\n",
    "%matplotlib inline"
   ]
  },
  {
   "cell_type": "markdown",
   "metadata": {},
   "source": [
    "## Preliminary Wrangling"
   ]
  },
  {
   "cell_type": "markdown",
   "metadata": {},
   "source": [
    "### Gather"
   ]
  },
  {
   "cell_type": "code",
   "execution_count": 2,
   "metadata": {},
   "outputs": [],
   "source": [
    "df = pd.read_csv('2017-fordgobike-tripdata.csv')"
   ]
  },
  {
   "cell_type": "markdown",
   "metadata": {},
   "source": [
    "### Assess"
   ]
  },
  {
   "cell_type": "code",
   "execution_count": 3,
   "metadata": {},
   "outputs": [
    {
     "data": {
      "text/html": [
       "<div>\n",
       "<style scoped>\n",
       "    .dataframe tbody tr th:only-of-type {\n",
       "        vertical-align: middle;\n",
       "    }\n",
       "\n",
       "    .dataframe tbody tr th {\n",
       "        vertical-align: top;\n",
       "    }\n",
       "\n",
       "    .dataframe thead th {\n",
       "        text-align: right;\n",
       "    }\n",
       "</style>\n",
       "<table border=\"1\" class=\"dataframe\">\n",
       "  <thead>\n",
       "    <tr style=\"text-align: right;\">\n",
       "      <th></th>\n",
       "      <th>duration_sec</th>\n",
       "      <th>start_time</th>\n",
       "      <th>end_time</th>\n",
       "      <th>start_station_id</th>\n",
       "      <th>start_station_name</th>\n",
       "      <th>start_station_latitude</th>\n",
       "      <th>start_station_longitude</th>\n",
       "      <th>end_station_id</th>\n",
       "      <th>end_station_name</th>\n",
       "      <th>end_station_latitude</th>\n",
       "      <th>end_station_longitude</th>\n",
       "      <th>bike_id</th>\n",
       "      <th>user_type</th>\n",
       "    </tr>\n",
       "  </thead>\n",
       "  <tbody>\n",
       "    <tr>\n",
       "      <td>0</td>\n",
       "      <td>80110</td>\n",
       "      <td>2017-12-31 16:57:39.6540</td>\n",
       "      <td>2018-01-01 15:12:50.2450</td>\n",
       "      <td>74</td>\n",
       "      <td>Laguna St at Hayes St</td>\n",
       "      <td>37.776435</td>\n",
       "      <td>-122.426244</td>\n",
       "      <td>43</td>\n",
       "      <td>San Francisco Public Library (Grove St at Hyde...</td>\n",
       "      <td>37.778768</td>\n",
       "      <td>-122.415929</td>\n",
       "      <td>96</td>\n",
       "      <td>Customer</td>\n",
       "    </tr>\n",
       "    <tr>\n",
       "      <td>1</td>\n",
       "      <td>78800</td>\n",
       "      <td>2017-12-31 15:56:34.8420</td>\n",
       "      <td>2018-01-01 13:49:55.6170</td>\n",
       "      <td>284</td>\n",
       "      <td>Yerba Buena Center for the Arts (Howard St at ...</td>\n",
       "      <td>37.784872</td>\n",
       "      <td>-122.400876</td>\n",
       "      <td>96</td>\n",
       "      <td>Dolores St at 15th St</td>\n",
       "      <td>37.766210</td>\n",
       "      <td>-122.426614</td>\n",
       "      <td>88</td>\n",
       "      <td>Customer</td>\n",
       "    </tr>\n",
       "    <tr>\n",
       "      <td>2</td>\n",
       "      <td>45768</td>\n",
       "      <td>2017-12-31 22:45:48.4110</td>\n",
       "      <td>2018-01-01 11:28:36.8830</td>\n",
       "      <td>245</td>\n",
       "      <td>Downtown Berkeley BART</td>\n",
       "      <td>37.870348</td>\n",
       "      <td>-122.267764</td>\n",
       "      <td>245</td>\n",
       "      <td>Downtown Berkeley BART</td>\n",
       "      <td>37.870348</td>\n",
       "      <td>-122.267764</td>\n",
       "      <td>1094</td>\n",
       "      <td>Customer</td>\n",
       "    </tr>\n",
       "    <tr>\n",
       "      <td>3</td>\n",
       "      <td>62172</td>\n",
       "      <td>2017-12-31 17:31:10.6360</td>\n",
       "      <td>2018-01-01 10:47:23.5310</td>\n",
       "      <td>60</td>\n",
       "      <td>8th St at Ringold St</td>\n",
       "      <td>37.774520</td>\n",
       "      <td>-122.409449</td>\n",
       "      <td>5</td>\n",
       "      <td>Powell St BART Station (Market St at 5th St)</td>\n",
       "      <td>37.783899</td>\n",
       "      <td>-122.408445</td>\n",
       "      <td>2831</td>\n",
       "      <td>Customer</td>\n",
       "    </tr>\n",
       "    <tr>\n",
       "      <td>4</td>\n",
       "      <td>43603</td>\n",
       "      <td>2017-12-31 14:23:14.0010</td>\n",
       "      <td>2018-01-01 02:29:57.5710</td>\n",
       "      <td>239</td>\n",
       "      <td>Bancroft Way at Telegraph Ave</td>\n",
       "      <td>37.868813</td>\n",
       "      <td>-122.258764</td>\n",
       "      <td>247</td>\n",
       "      <td>Fulton St at Bancroft Way</td>\n",
       "      <td>37.867789</td>\n",
       "      <td>-122.265896</td>\n",
       "      <td>3167</td>\n",
       "      <td>Subscriber</td>\n",
       "    </tr>\n",
       "  </tbody>\n",
       "</table>\n",
       "</div>"
      ],
      "text/plain": [
       "   duration_sec                start_time                  end_time  \\\n",
       "0         80110  2017-12-31 16:57:39.6540  2018-01-01 15:12:50.2450   \n",
       "1         78800  2017-12-31 15:56:34.8420  2018-01-01 13:49:55.6170   \n",
       "2         45768  2017-12-31 22:45:48.4110  2018-01-01 11:28:36.8830   \n",
       "3         62172  2017-12-31 17:31:10.6360  2018-01-01 10:47:23.5310   \n",
       "4         43603  2017-12-31 14:23:14.0010  2018-01-01 02:29:57.5710   \n",
       "\n",
       "   start_station_id                                 start_station_name  \\\n",
       "0                74                              Laguna St at Hayes St   \n",
       "1               284  Yerba Buena Center for the Arts (Howard St at ...   \n",
       "2               245                             Downtown Berkeley BART   \n",
       "3                60                               8th St at Ringold St   \n",
       "4               239                      Bancroft Way at Telegraph Ave   \n",
       "\n",
       "   start_station_latitude  start_station_longitude  end_station_id  \\\n",
       "0               37.776435              -122.426244              43   \n",
       "1               37.784872              -122.400876              96   \n",
       "2               37.870348              -122.267764             245   \n",
       "3               37.774520              -122.409449               5   \n",
       "4               37.868813              -122.258764             247   \n",
       "\n",
       "                                    end_station_name  end_station_latitude  \\\n",
       "0  San Francisco Public Library (Grove St at Hyde...             37.778768   \n",
       "1                              Dolores St at 15th St             37.766210   \n",
       "2                             Downtown Berkeley BART             37.870348   \n",
       "3       Powell St BART Station (Market St at 5th St)             37.783899   \n",
       "4                          Fulton St at Bancroft Way             37.867789   \n",
       "\n",
       "   end_station_longitude  bike_id   user_type  \n",
       "0            -122.415929       96    Customer  \n",
       "1            -122.426614       88    Customer  \n",
       "2            -122.267764     1094    Customer  \n",
       "3            -122.408445     2831    Customer  \n",
       "4            -122.265896     3167  Subscriber  "
      ]
     },
     "execution_count": 3,
     "metadata": {},
     "output_type": "execute_result"
    }
   ],
   "source": [
    "df.head()"
   ]
  },
  {
   "cell_type": "code",
   "execution_count": 4,
   "metadata": {},
   "outputs": [
    {
     "name": "stdout",
     "output_type": "stream",
     "text": [
      "<class 'pandas.core.frame.DataFrame'>\n",
      "RangeIndex: 519700 entries, 0 to 519699\n",
      "Data columns (total 13 columns):\n",
      "duration_sec               519700 non-null int64\n",
      "start_time                 519700 non-null object\n",
      "end_time                   519700 non-null object\n",
      "start_station_id           519700 non-null int64\n",
      "start_station_name         519700 non-null object\n",
      "start_station_latitude     519700 non-null float64\n",
      "start_station_longitude    519700 non-null float64\n",
      "end_station_id             519700 non-null int64\n",
      "end_station_name           519700 non-null object\n",
      "end_station_latitude       519700 non-null float64\n",
      "end_station_longitude      519700 non-null float64\n",
      "bike_id                    519700 non-null int64\n",
      "user_type                  519700 non-null object\n",
      "dtypes: float64(4), int64(4), object(5)\n",
      "memory usage: 51.5+ MB\n"
     ]
    }
   ],
   "source": [
    "df.info()"
   ]
  },
  {
   "cell_type": "code",
   "execution_count": 5,
   "metadata": {},
   "outputs": [
    {
     "data": {
      "text/plain": [
       "(519700, 13)"
      ]
     },
     "execution_count": 5,
     "metadata": {},
     "output_type": "execute_result"
    }
   ],
   "source": [
    "df.shape"
   ]
  },
  {
   "cell_type": "code",
   "execution_count": 6,
   "metadata": {},
   "outputs": [
    {
     "data": {
      "text/html": [
       "<div>\n",
       "<style scoped>\n",
       "    .dataframe tbody tr th:only-of-type {\n",
       "        vertical-align: middle;\n",
       "    }\n",
       "\n",
       "    .dataframe tbody tr th {\n",
       "        vertical-align: top;\n",
       "    }\n",
       "\n",
       "    .dataframe thead th {\n",
       "        text-align: right;\n",
       "    }\n",
       "</style>\n",
       "<table border=\"1\" class=\"dataframe\">\n",
       "  <thead>\n",
       "    <tr style=\"text-align: right;\">\n",
       "      <th></th>\n",
       "      <th>duration_sec</th>\n",
       "      <th>start_station_id</th>\n",
       "      <th>start_station_latitude</th>\n",
       "      <th>start_station_longitude</th>\n",
       "      <th>end_station_id</th>\n",
       "      <th>end_station_latitude</th>\n",
       "      <th>end_station_longitude</th>\n",
       "      <th>bike_id</th>\n",
       "    </tr>\n",
       "  </thead>\n",
       "  <tbody>\n",
       "    <tr>\n",
       "      <td>count</td>\n",
       "      <td>519700.000000</td>\n",
       "      <td>519700.000000</td>\n",
       "      <td>519700.000000</td>\n",
       "      <td>519700.000000</td>\n",
       "      <td>519700.000000</td>\n",
       "      <td>519700.000000</td>\n",
       "      <td>519700.000000</td>\n",
       "      <td>519700.000000</td>\n",
       "    </tr>\n",
       "    <tr>\n",
       "      <td>mean</td>\n",
       "      <td>1099.009521</td>\n",
       "      <td>95.034245</td>\n",
       "      <td>37.771653</td>\n",
       "      <td>-122.363927</td>\n",
       "      <td>92.184041</td>\n",
       "      <td>37.771844</td>\n",
       "      <td>-122.363236</td>\n",
       "      <td>1672.533079</td>\n",
       "    </tr>\n",
       "    <tr>\n",
       "      <td>std</td>\n",
       "      <td>3444.146451</td>\n",
       "      <td>86.083078</td>\n",
       "      <td>0.086305</td>\n",
       "      <td>0.105573</td>\n",
       "      <td>84.969491</td>\n",
       "      <td>0.086224</td>\n",
       "      <td>0.105122</td>\n",
       "      <td>971.356959</td>\n",
       "    </tr>\n",
       "    <tr>\n",
       "      <td>min</td>\n",
       "      <td>61.000000</td>\n",
       "      <td>3.000000</td>\n",
       "      <td>37.317298</td>\n",
       "      <td>-122.444293</td>\n",
       "      <td>3.000000</td>\n",
       "      <td>37.317298</td>\n",
       "      <td>-122.444293</td>\n",
       "      <td>10.000000</td>\n",
       "    </tr>\n",
       "    <tr>\n",
       "      <td>25%</td>\n",
       "      <td>382.000000</td>\n",
       "      <td>24.000000</td>\n",
       "      <td>37.773492</td>\n",
       "      <td>-122.411726</td>\n",
       "      <td>23.000000</td>\n",
       "      <td>37.774520</td>\n",
       "      <td>-122.410345</td>\n",
       "      <td>787.000000</td>\n",
       "    </tr>\n",
       "    <tr>\n",
       "      <td>50%</td>\n",
       "      <td>596.000000</td>\n",
       "      <td>67.000000</td>\n",
       "      <td>37.783521</td>\n",
       "      <td>-122.398870</td>\n",
       "      <td>66.000000</td>\n",
       "      <td>37.783830</td>\n",
       "      <td>-122.398525</td>\n",
       "      <td>1728.500000</td>\n",
       "    </tr>\n",
       "    <tr>\n",
       "      <td>75%</td>\n",
       "      <td>938.000000</td>\n",
       "      <td>139.000000</td>\n",
       "      <td>37.795392</td>\n",
       "      <td>-122.391034</td>\n",
       "      <td>134.000000</td>\n",
       "      <td>37.795392</td>\n",
       "      <td>-122.391034</td>\n",
       "      <td>2520.000000</td>\n",
       "    </tr>\n",
       "    <tr>\n",
       "      <td>max</td>\n",
       "      <td>86369.000000</td>\n",
       "      <td>340.000000</td>\n",
       "      <td>37.880222</td>\n",
       "      <td>-121.874119</td>\n",
       "      <td>340.000000</td>\n",
       "      <td>37.880222</td>\n",
       "      <td>-121.874119</td>\n",
       "      <td>3733.000000</td>\n",
       "    </tr>\n",
       "  </tbody>\n",
       "</table>\n",
       "</div>"
      ],
      "text/plain": [
       "        duration_sec  start_station_id  start_station_latitude  \\\n",
       "count  519700.000000     519700.000000           519700.000000   \n",
       "mean     1099.009521         95.034245               37.771653   \n",
       "std      3444.146451         86.083078                0.086305   \n",
       "min        61.000000          3.000000               37.317298   \n",
       "25%       382.000000         24.000000               37.773492   \n",
       "50%       596.000000         67.000000               37.783521   \n",
       "75%       938.000000        139.000000               37.795392   \n",
       "max     86369.000000        340.000000               37.880222   \n",
       "\n",
       "       start_station_longitude  end_station_id  end_station_latitude  \\\n",
       "count            519700.000000   519700.000000         519700.000000   \n",
       "mean               -122.363927       92.184041             37.771844   \n",
       "std                   0.105573       84.969491              0.086224   \n",
       "min                -122.444293        3.000000             37.317298   \n",
       "25%                -122.411726       23.000000             37.774520   \n",
       "50%                -122.398870       66.000000             37.783830   \n",
       "75%                -122.391034      134.000000             37.795392   \n",
       "max                -121.874119      340.000000             37.880222   \n",
       "\n",
       "       end_station_longitude        bike_id  \n",
       "count          519700.000000  519700.000000  \n",
       "mean             -122.363236    1672.533079  \n",
       "std                 0.105122     971.356959  \n",
       "min              -122.444293      10.000000  \n",
       "25%              -122.410345     787.000000  \n",
       "50%              -122.398525    1728.500000  \n",
       "75%              -122.391034    2520.000000  \n",
       "max              -121.874119    3733.000000  "
      ]
     },
     "execution_count": 6,
     "metadata": {},
     "output_type": "execute_result"
    }
   ],
   "source": [
    "# Additional Statistics\n",
    "df.describe()"
   ]
  },
  {
   "cell_type": "code",
   "execution_count": 7,
   "metadata": {},
   "outputs": [
    {
     "data": {
      "text/plain": [
       "0"
      ]
     },
     "execution_count": 7,
     "metadata": {},
     "output_type": "execute_result"
    }
   ],
   "source": [
    "# Let's look for duplicates\n",
    "df.duplicated().sum() "
   ]
  },
  {
   "cell_type": "code",
   "execution_count": 8,
   "metadata": {},
   "outputs": [
    {
     "data": {
      "text/plain": [
       "duration_sec               0\n",
       "start_time                 0\n",
       "end_time                   0\n",
       "start_station_id           0\n",
       "start_station_name         0\n",
       "start_station_latitude     0\n",
       "start_station_longitude    0\n",
       "end_station_id             0\n",
       "end_station_name           0\n",
       "end_station_latitude       0\n",
       "end_station_longitude      0\n",
       "bike_id                    0\n",
       "user_type                  0\n",
       "dtype: int64"
      ]
     },
     "execution_count": 8,
     "metadata": {},
     "output_type": "execute_result"
    }
   ],
   "source": [
    "# Let's look for NaN values\n",
    "df.isna().sum()"
   ]
  },
  {
   "cell_type": "code",
   "execution_count": 9,
   "metadata": {},
   "outputs": [
    {
     "data": {
      "text/plain": [
       "Subscriber    409230\n",
       "Customer      110470\n",
       "Name: user_type, dtype: int64"
      ]
     },
     "execution_count": 9,
     "metadata": {},
     "output_type": "execute_result"
    }
   ],
   "source": [
    "# Need to convert this to Category datatype\n",
    "df.user_type.value_counts()"
   ]
  },
  {
   "cell_type": "markdown",
   "metadata": {},
   "source": [
    "### Clean"
   ]
  },
  {
   "cell_type": "code",
   "execution_count": 10,
   "metadata": {},
   "outputs": [],
   "source": [
    "# Making a copy of a DataFrame\n",
    "df_clean = df.copy()"
   ]
  },
  {
   "cell_type": "markdown",
   "metadata": {},
   "source": [
    "**Define:** Convert `start_time` and `end_time` columns to datetime format"
   ]
  },
  {
   "cell_type": "markdown",
   "metadata": {},
   "source": [
    "**Code**"
   ]
  },
  {
   "cell_type": "code",
   "execution_count": 11,
   "metadata": {},
   "outputs": [],
   "source": [
    "df_clean.start_time = pd.to_datetime(df_clean.start_time)\n",
    "df_clean.end_time = pd.to_datetime(df_clean.end_time)"
   ]
  },
  {
   "cell_type": "markdown",
   "metadata": {},
   "source": [
    "**Test**"
   ]
  },
  {
   "cell_type": "code",
   "execution_count": 12,
   "metadata": {},
   "outputs": [
    {
     "name": "stdout",
     "output_type": "stream",
     "text": [
      "<class 'pandas.core.frame.DataFrame'>\n",
      "RangeIndex: 519700 entries, 0 to 519699\n",
      "Data columns (total 13 columns):\n",
      "duration_sec               519700 non-null int64\n",
      "start_time                 519700 non-null datetime64[ns]\n",
      "end_time                   519700 non-null datetime64[ns]\n",
      "start_station_id           519700 non-null int64\n",
      "start_station_name         519700 non-null object\n",
      "start_station_latitude     519700 non-null float64\n",
      "start_station_longitude    519700 non-null float64\n",
      "end_station_id             519700 non-null int64\n",
      "end_station_name           519700 non-null object\n",
      "end_station_latitude       519700 non-null float64\n",
      "end_station_longitude      519700 non-null float64\n",
      "bike_id                    519700 non-null int64\n",
      "user_type                  519700 non-null object\n",
      "dtypes: datetime64[ns](2), float64(4), int64(4), object(3)\n",
      "memory usage: 51.5+ MB\n"
     ]
    }
   ],
   "source": [
    "df_clean.info()"
   ]
  },
  {
   "cell_type": "markdown",
   "metadata": {},
   "source": [
    "**Define:** Convert `start_station_id`, `end_station_id`, `bike_id` columns to object format"
   ]
  },
  {
   "cell_type": "markdown",
   "metadata": {},
   "source": [
    "**Code**"
   ]
  },
  {
   "cell_type": "code",
   "execution_count": 13,
   "metadata": {},
   "outputs": [],
   "source": [
    "df_clean.start_station_id = df_clean.start_station_id.astype(str)\n",
    "df_clean.end_station_id = df_clean.end_station_id.astype(str)\n",
    "df_clean.bike_id = df_clean.bike_id.astype(str)"
   ]
  },
  {
   "cell_type": "markdown",
   "metadata": {},
   "source": [
    "**Test**"
   ]
  },
  {
   "cell_type": "code",
   "execution_count": 14,
   "metadata": {},
   "outputs": [
    {
     "name": "stdout",
     "output_type": "stream",
     "text": [
      "<class 'pandas.core.frame.DataFrame'>\n",
      "RangeIndex: 519700 entries, 0 to 519699\n",
      "Data columns (total 13 columns):\n",
      "duration_sec               519700 non-null int64\n",
      "start_time                 519700 non-null datetime64[ns]\n",
      "end_time                   519700 non-null datetime64[ns]\n",
      "start_station_id           519700 non-null object\n",
      "start_station_name         519700 non-null object\n",
      "start_station_latitude     519700 non-null float64\n",
      "start_station_longitude    519700 non-null float64\n",
      "end_station_id             519700 non-null object\n",
      "end_station_name           519700 non-null object\n",
      "end_station_latitude       519700 non-null float64\n",
      "end_station_longitude      519700 non-null float64\n",
      "bike_id                    519700 non-null object\n",
      "user_type                  519700 non-null object\n",
      "dtypes: datetime64[ns](2), float64(4), int64(1), object(6)\n",
      "memory usage: 51.5+ MB\n"
     ]
    }
   ],
   "source": [
    "df_clean.info()"
   ]
  },
  {
   "cell_type": "markdown",
   "metadata": {},
   "source": [
    "**Define:** Change the `user_type` columns to category format"
   ]
  },
  {
   "cell_type": "markdown",
   "metadata": {},
   "source": [
    "**Code**"
   ]
  },
  {
   "cell_type": "code",
   "execution_count": 15,
   "metadata": {},
   "outputs": [],
   "source": [
    "df_clean.user_type = df_clean.user_type.astype('category')"
   ]
  },
  {
   "cell_type": "markdown",
   "metadata": {},
   "source": [
    "**Test**"
   ]
  },
  {
   "cell_type": "code",
   "execution_count": 16,
   "metadata": {},
   "outputs": [
    {
     "name": "stdout",
     "output_type": "stream",
     "text": [
      "<class 'pandas.core.frame.DataFrame'>\n",
      "RangeIndex: 519700 entries, 0 to 519699\n",
      "Data columns (total 13 columns):\n",
      "duration_sec               519700 non-null int64\n",
      "start_time                 519700 non-null datetime64[ns]\n",
      "end_time                   519700 non-null datetime64[ns]\n",
      "start_station_id           519700 non-null object\n",
      "start_station_name         519700 non-null object\n",
      "start_station_latitude     519700 non-null float64\n",
      "start_station_longitude    519700 non-null float64\n",
      "end_station_id             519700 non-null object\n",
      "end_station_name           519700 non-null object\n",
      "end_station_latitude       519700 non-null float64\n",
      "end_station_longitude      519700 non-null float64\n",
      "bike_id                    519700 non-null object\n",
      "user_type                  519700 non-null category\n",
      "dtypes: category(1), datetime64[ns](2), float64(4), int64(1), object(5)\n",
      "memory usage: 48.1+ MB\n"
     ]
    }
   ],
   "source": [
    "df_clean.info()"
   ]
  },
  {
   "cell_type": "markdown",
   "metadata": {},
   "source": [
    "**Define:** Extract Month, Weekday, and Hour from `start_time` column and make new columns for `start_time_month`, `start_time_weekday`, and `start_time_hour`"
   ]
  },
  {
   "cell_type": "markdown",
   "metadata": {},
   "source": [
    "**Code**"
   ]
  },
  {
   "cell_type": "code",
   "execution_count": 17,
   "metadata": {},
   "outputs": [],
   "source": [
    "df_clean['start_time_month'] = df_clean['start_time'].dt.strftime('%B')\n",
    "df_clean['start_time_weekday'] = df_clean['start_time'].dt.strftime('%a')\n",
    "df_clean['start_time_hour'] = df_clean['start_time'].dt.hour"
   ]
  },
  {
   "cell_type": "markdown",
   "metadata": {},
   "source": [
    "**Test**"
   ]
  },
  {
   "cell_type": "code",
   "execution_count": 18,
   "metadata": {},
   "outputs": [
    {
     "data": {
      "text/html": [
       "<div>\n",
       "<style scoped>\n",
       "    .dataframe tbody tr th:only-of-type {\n",
       "        vertical-align: middle;\n",
       "    }\n",
       "\n",
       "    .dataframe tbody tr th {\n",
       "        vertical-align: top;\n",
       "    }\n",
       "\n",
       "    .dataframe thead th {\n",
       "        text-align: right;\n",
       "    }\n",
       "</style>\n",
       "<table border=\"1\" class=\"dataframe\">\n",
       "  <thead>\n",
       "    <tr style=\"text-align: right;\">\n",
       "      <th></th>\n",
       "      <th>duration_sec</th>\n",
       "      <th>start_time</th>\n",
       "      <th>end_time</th>\n",
       "      <th>start_station_id</th>\n",
       "      <th>start_station_name</th>\n",
       "      <th>start_station_latitude</th>\n",
       "      <th>start_station_longitude</th>\n",
       "      <th>end_station_id</th>\n",
       "      <th>end_station_name</th>\n",
       "      <th>end_station_latitude</th>\n",
       "      <th>end_station_longitude</th>\n",
       "      <th>bike_id</th>\n",
       "      <th>user_type</th>\n",
       "      <th>start_time_month</th>\n",
       "      <th>start_time_weekday</th>\n",
       "      <th>start_time_hour</th>\n",
       "    </tr>\n",
       "  </thead>\n",
       "  <tbody>\n",
       "    <tr>\n",
       "      <td>0</td>\n",
       "      <td>80110</td>\n",
       "      <td>2017-12-31 16:57:39.654</td>\n",
       "      <td>2018-01-01 15:12:50.245</td>\n",
       "      <td>74</td>\n",
       "      <td>Laguna St at Hayes St</td>\n",
       "      <td>37.776435</td>\n",
       "      <td>-122.426244</td>\n",
       "      <td>43</td>\n",
       "      <td>San Francisco Public Library (Grove St at Hyde...</td>\n",
       "      <td>37.778768</td>\n",
       "      <td>-122.415929</td>\n",
       "      <td>96</td>\n",
       "      <td>Customer</td>\n",
       "      <td>December</td>\n",
       "      <td>Sun</td>\n",
       "      <td>16</td>\n",
       "    </tr>\n",
       "    <tr>\n",
       "      <td>1</td>\n",
       "      <td>78800</td>\n",
       "      <td>2017-12-31 15:56:34.842</td>\n",
       "      <td>2018-01-01 13:49:55.617</td>\n",
       "      <td>284</td>\n",
       "      <td>Yerba Buena Center for the Arts (Howard St at ...</td>\n",
       "      <td>37.784872</td>\n",
       "      <td>-122.400876</td>\n",
       "      <td>96</td>\n",
       "      <td>Dolores St at 15th St</td>\n",
       "      <td>37.766210</td>\n",
       "      <td>-122.426614</td>\n",
       "      <td>88</td>\n",
       "      <td>Customer</td>\n",
       "      <td>December</td>\n",
       "      <td>Sun</td>\n",
       "      <td>15</td>\n",
       "    </tr>\n",
       "    <tr>\n",
       "      <td>2</td>\n",
       "      <td>45768</td>\n",
       "      <td>2017-12-31 22:45:48.411</td>\n",
       "      <td>2018-01-01 11:28:36.883</td>\n",
       "      <td>245</td>\n",
       "      <td>Downtown Berkeley BART</td>\n",
       "      <td>37.870348</td>\n",
       "      <td>-122.267764</td>\n",
       "      <td>245</td>\n",
       "      <td>Downtown Berkeley BART</td>\n",
       "      <td>37.870348</td>\n",
       "      <td>-122.267764</td>\n",
       "      <td>1094</td>\n",
       "      <td>Customer</td>\n",
       "      <td>December</td>\n",
       "      <td>Sun</td>\n",
       "      <td>22</td>\n",
       "    </tr>\n",
       "    <tr>\n",
       "      <td>3</td>\n",
       "      <td>62172</td>\n",
       "      <td>2017-12-31 17:31:10.636</td>\n",
       "      <td>2018-01-01 10:47:23.531</td>\n",
       "      <td>60</td>\n",
       "      <td>8th St at Ringold St</td>\n",
       "      <td>37.774520</td>\n",
       "      <td>-122.409449</td>\n",
       "      <td>5</td>\n",
       "      <td>Powell St BART Station (Market St at 5th St)</td>\n",
       "      <td>37.783899</td>\n",
       "      <td>-122.408445</td>\n",
       "      <td>2831</td>\n",
       "      <td>Customer</td>\n",
       "      <td>December</td>\n",
       "      <td>Sun</td>\n",
       "      <td>17</td>\n",
       "    </tr>\n",
       "    <tr>\n",
       "      <td>4</td>\n",
       "      <td>43603</td>\n",
       "      <td>2017-12-31 14:23:14.001</td>\n",
       "      <td>2018-01-01 02:29:57.571</td>\n",
       "      <td>239</td>\n",
       "      <td>Bancroft Way at Telegraph Ave</td>\n",
       "      <td>37.868813</td>\n",
       "      <td>-122.258764</td>\n",
       "      <td>247</td>\n",
       "      <td>Fulton St at Bancroft Way</td>\n",
       "      <td>37.867789</td>\n",
       "      <td>-122.265896</td>\n",
       "      <td>3167</td>\n",
       "      <td>Subscriber</td>\n",
       "      <td>December</td>\n",
       "      <td>Sun</td>\n",
       "      <td>14</td>\n",
       "    </tr>\n",
       "  </tbody>\n",
       "</table>\n",
       "</div>"
      ],
      "text/plain": [
       "   duration_sec              start_time                end_time  \\\n",
       "0         80110 2017-12-31 16:57:39.654 2018-01-01 15:12:50.245   \n",
       "1         78800 2017-12-31 15:56:34.842 2018-01-01 13:49:55.617   \n",
       "2         45768 2017-12-31 22:45:48.411 2018-01-01 11:28:36.883   \n",
       "3         62172 2017-12-31 17:31:10.636 2018-01-01 10:47:23.531   \n",
       "4         43603 2017-12-31 14:23:14.001 2018-01-01 02:29:57.571   \n",
       "\n",
       "  start_station_id                                 start_station_name  \\\n",
       "0               74                              Laguna St at Hayes St   \n",
       "1              284  Yerba Buena Center for the Arts (Howard St at ...   \n",
       "2              245                             Downtown Berkeley BART   \n",
       "3               60                               8th St at Ringold St   \n",
       "4              239                      Bancroft Way at Telegraph Ave   \n",
       "\n",
       "   start_station_latitude  start_station_longitude end_station_id  \\\n",
       "0               37.776435              -122.426244             43   \n",
       "1               37.784872              -122.400876             96   \n",
       "2               37.870348              -122.267764            245   \n",
       "3               37.774520              -122.409449              5   \n",
       "4               37.868813              -122.258764            247   \n",
       "\n",
       "                                    end_station_name  end_station_latitude  \\\n",
       "0  San Francisco Public Library (Grove St at Hyde...             37.778768   \n",
       "1                              Dolores St at 15th St             37.766210   \n",
       "2                             Downtown Berkeley BART             37.870348   \n",
       "3       Powell St BART Station (Market St at 5th St)             37.783899   \n",
       "4                          Fulton St at Bancroft Way             37.867789   \n",
       "\n",
       "   end_station_longitude bike_id   user_type start_time_month  \\\n",
       "0            -122.415929      96    Customer         December   \n",
       "1            -122.426614      88    Customer         December   \n",
       "2            -122.267764    1094    Customer         December   \n",
       "3            -122.408445    2831    Customer         December   \n",
       "4            -122.265896    3167  Subscriber         December   \n",
       "\n",
       "  start_time_weekday  start_time_hour  \n",
       "0                Sun               16  \n",
       "1                Sun               15  \n",
       "2                Sun               22  \n",
       "3                Sun               17  \n",
       "4                Sun               14  "
      ]
     },
     "execution_count": 18,
     "metadata": {},
     "output_type": "execute_result"
    }
   ],
   "source": [
    "df_clean.head()"
   ]
  },
  {
   "cell_type": "markdown",
   "metadata": {},
   "source": [
    "**Define:** Convert `start_time_month`, `start_time_weekday`, and `start_time_hour` columns to categorical datatype"
   ]
  },
  {
   "cell_type": "markdown",
   "metadata": {},
   "source": [
    "**Code**"
   ]
  },
  {
   "cell_type": "code",
   "execution_count": 19,
   "metadata": {},
   "outputs": [],
   "source": [
    "weekdays = ['Mon','Tue','Wed','Thu','Fri', 'Sat', 'Sun']\n",
    "ordered_weekdays = pd.api.types.CategoricalDtype(ordered = True, categories=weekdays)\n",
    "df_clean['start_time_weekday'] = df_clean['start_time_weekday'].astype(ordered_weekdays)"
   ]
  },
  {
   "cell_type": "code",
   "execution_count": 20,
   "metadata": {},
   "outputs": [
    {
     "data": {
      "text/plain": [
       "October      108937\n",
       "September     98558\n",
       "November      95612\n",
       "December      86539\n",
       "August        83292\n",
       "July          44073\n",
       "June           2689\n",
       "Name: start_time_month, dtype: int64"
      ]
     },
     "execution_count": 20,
     "metadata": {},
     "output_type": "execute_result"
    }
   ],
   "source": [
    "df_clean.start_time_month.value_counts()"
   ]
  },
  {
   "cell_type": "code",
   "execution_count": 21,
   "metadata": {},
   "outputs": [],
   "source": [
    "months = ['June', 'July', 'August', 'September', 'October', 'November', 'December']\n",
    "ordered_months = pd.api.types.CategoricalDtype(ordered = True, categories=months)\n",
    "df_clean['start_time_month'] = df_clean['start_time_month'].astype(ordered_months)"
   ]
  },
  {
   "cell_type": "markdown",
   "metadata": {},
   "source": [
    "**Test**"
   ]
  },
  {
   "cell_type": "code",
   "execution_count": 22,
   "metadata": {},
   "outputs": [
    {
     "name": "stdout",
     "output_type": "stream",
     "text": [
      "<class 'pandas.core.frame.DataFrame'>\n",
      "RangeIndex: 519700 entries, 0 to 519699\n",
      "Data columns (total 16 columns):\n",
      "duration_sec               519700 non-null int64\n",
      "start_time                 519700 non-null datetime64[ns]\n",
      "end_time                   519700 non-null datetime64[ns]\n",
      "start_station_id           519700 non-null object\n",
      "start_station_name         519700 non-null object\n",
      "start_station_latitude     519700 non-null float64\n",
      "start_station_longitude    519700 non-null float64\n",
      "end_station_id             519700 non-null object\n",
      "end_station_name           519700 non-null object\n",
      "end_station_latitude       519700 non-null float64\n",
      "end_station_longitude      519700 non-null float64\n",
      "bike_id                    519700 non-null object\n",
      "user_type                  519700 non-null category\n",
      "start_time_month           519700 non-null category\n",
      "start_time_weekday         519700 non-null category\n",
      "start_time_hour            519700 non-null int64\n",
      "dtypes: category(3), datetime64[ns](2), float64(4), int64(2), object(5)\n",
      "memory usage: 53.0+ MB\n"
     ]
    }
   ],
   "source": [
    "df_clean.info()"
   ]
  },
  {
   "cell_type": "markdown",
   "metadata": {},
   "source": [
    "**Define:** Sort all the DataFrame rows with respect to `start_time` column"
   ]
  },
  {
   "cell_type": "markdown",
   "metadata": {},
   "source": [
    "**Code**"
   ]
  },
  {
   "cell_type": "code",
   "execution_count": 23,
   "metadata": {},
   "outputs": [],
   "source": [
    "df_clean = df_clean.sort_values(by='start_time', ascending=True)"
   ]
  },
  {
   "cell_type": "markdown",
   "metadata": {},
   "source": [
    "**Test**"
   ]
  },
  {
   "cell_type": "code",
   "execution_count": 24,
   "metadata": {},
   "outputs": [
    {
     "data": {
      "text/html": [
       "<div>\n",
       "<style scoped>\n",
       "    .dataframe tbody tr th:only-of-type {\n",
       "        vertical-align: middle;\n",
       "    }\n",
       "\n",
       "    .dataframe tbody tr th {\n",
       "        vertical-align: top;\n",
       "    }\n",
       "\n",
       "    .dataframe thead th {\n",
       "        text-align: right;\n",
       "    }\n",
       "</style>\n",
       "<table border=\"1\" class=\"dataframe\">\n",
       "  <thead>\n",
       "    <tr style=\"text-align: right;\">\n",
       "      <th></th>\n",
       "      <th>duration_sec</th>\n",
       "      <th>start_time</th>\n",
       "      <th>end_time</th>\n",
       "      <th>start_station_id</th>\n",
       "      <th>start_station_name</th>\n",
       "      <th>start_station_latitude</th>\n",
       "      <th>start_station_longitude</th>\n",
       "      <th>end_station_id</th>\n",
       "      <th>end_station_name</th>\n",
       "      <th>end_station_latitude</th>\n",
       "      <th>end_station_longitude</th>\n",
       "      <th>bike_id</th>\n",
       "      <th>user_type</th>\n",
       "      <th>start_time_month</th>\n",
       "      <th>start_time_weekday</th>\n",
       "      <th>start_time_hour</th>\n",
       "    </tr>\n",
       "  </thead>\n",
       "  <tbody>\n",
       "    <tr>\n",
       "      <td>519697</td>\n",
       "      <td>424</td>\n",
       "      <td>2017-06-28 09:47:36.347</td>\n",
       "      <td>2017-06-28 09:54:41.187</td>\n",
       "      <td>21</td>\n",
       "      <td>Montgomery St BART Station (Market St at 2nd St)</td>\n",
       "      <td>37.789625</td>\n",
       "      <td>-122.400811</td>\n",
       "      <td>48</td>\n",
       "      <td>2nd St at S Park St</td>\n",
       "      <td>37.782411</td>\n",
       "      <td>-122.392706</td>\n",
       "      <td>240</td>\n",
       "      <td>Subscriber</td>\n",
       "      <td>June</td>\n",
       "      <td>Wed</td>\n",
       "      <td>9</td>\n",
       "    </tr>\n",
       "    <tr>\n",
       "      <td>519698</td>\n",
       "      <td>366</td>\n",
       "      <td>2017-06-28 09:47:41.664</td>\n",
       "      <td>2017-06-28 09:53:47.715</td>\n",
       "      <td>58</td>\n",
       "      <td>Market St at 10th St</td>\n",
       "      <td>37.776619</td>\n",
       "      <td>-122.417385</td>\n",
       "      <td>59</td>\n",
       "      <td>S Van Ness Ave at Market St</td>\n",
       "      <td>37.774814</td>\n",
       "      <td>-122.418954</td>\n",
       "      <td>669</td>\n",
       "      <td>Subscriber</td>\n",
       "      <td>June</td>\n",
       "      <td>Wed</td>\n",
       "      <td>9</td>\n",
       "    </tr>\n",
       "    <tr>\n",
       "      <td>519699</td>\n",
       "      <td>188</td>\n",
       "      <td>2017-06-28 09:49:46.377</td>\n",
       "      <td>2017-06-28 09:52:55.338</td>\n",
       "      <td>25</td>\n",
       "      <td>Howard St at 2nd St</td>\n",
       "      <td>37.787522</td>\n",
       "      <td>-122.397405</td>\n",
       "      <td>48</td>\n",
       "      <td>2nd St at S Park St</td>\n",
       "      <td>37.782411</td>\n",
       "      <td>-122.392706</td>\n",
       "      <td>117</td>\n",
       "      <td>Subscriber</td>\n",
       "      <td>June</td>\n",
       "      <td>Wed</td>\n",
       "      <td>9</td>\n",
       "    </tr>\n",
       "    <tr>\n",
       "      <td>519692</td>\n",
       "      <td>1201</td>\n",
       "      <td>2017-06-28 09:50:59.175</td>\n",
       "      <td>2017-06-28 10:11:00.359</td>\n",
       "      <td>81</td>\n",
       "      <td>Berry St at 4th St</td>\n",
       "      <td>37.775880</td>\n",
       "      <td>-122.393170</td>\n",
       "      <td>9</td>\n",
       "      <td>Broadway at Battery St</td>\n",
       "      <td>37.798572</td>\n",
       "      <td>-122.400869</td>\n",
       "      <td>77</td>\n",
       "      <td>Subscriber</td>\n",
       "      <td>June</td>\n",
       "      <td>Wed</td>\n",
       "      <td>9</td>\n",
       "    </tr>\n",
       "    <tr>\n",
       "      <td>519696</td>\n",
       "      <td>431</td>\n",
       "      <td>2017-06-28 09:56:39.631</td>\n",
       "      <td>2017-06-28 10:03:51.090</td>\n",
       "      <td>66</td>\n",
       "      <td>3rd St at Townsend St</td>\n",
       "      <td>37.778742</td>\n",
       "      <td>-122.392741</td>\n",
       "      <td>321</td>\n",
       "      <td>5th at Folsom</td>\n",
       "      <td>37.780146</td>\n",
       "      <td>-122.403071</td>\n",
       "      <td>316</td>\n",
       "      <td>Subscriber</td>\n",
       "      <td>June</td>\n",
       "      <td>Wed</td>\n",
       "      <td>9</td>\n",
       "    </tr>\n",
       "  </tbody>\n",
       "</table>\n",
       "</div>"
      ],
      "text/plain": [
       "        duration_sec              start_time                end_time  \\\n",
       "519697           424 2017-06-28 09:47:36.347 2017-06-28 09:54:41.187   \n",
       "519698           366 2017-06-28 09:47:41.664 2017-06-28 09:53:47.715   \n",
       "519699           188 2017-06-28 09:49:46.377 2017-06-28 09:52:55.338   \n",
       "519692          1201 2017-06-28 09:50:59.175 2017-06-28 10:11:00.359   \n",
       "519696           431 2017-06-28 09:56:39.631 2017-06-28 10:03:51.090   \n",
       "\n",
       "       start_station_id                                start_station_name  \\\n",
       "519697               21  Montgomery St BART Station (Market St at 2nd St)   \n",
       "519698               58                              Market St at 10th St   \n",
       "519699               25                               Howard St at 2nd St   \n",
       "519692               81                                Berry St at 4th St   \n",
       "519696               66                             3rd St at Townsend St   \n",
       "\n",
       "        start_station_latitude  start_station_longitude end_station_id  \\\n",
       "519697               37.789625              -122.400811             48   \n",
       "519698               37.776619              -122.417385             59   \n",
       "519699               37.787522              -122.397405             48   \n",
       "519692               37.775880              -122.393170              9   \n",
       "519696               37.778742              -122.392741            321   \n",
       "\n",
       "                   end_station_name  end_station_latitude  \\\n",
       "519697          2nd St at S Park St             37.782411   \n",
       "519698  S Van Ness Ave at Market St             37.774814   \n",
       "519699          2nd St at S Park St             37.782411   \n",
       "519692       Broadway at Battery St             37.798572   \n",
       "519696                5th at Folsom             37.780146   \n",
       "\n",
       "        end_station_longitude bike_id   user_type start_time_month  \\\n",
       "519697            -122.392706     240  Subscriber             June   \n",
       "519698            -122.418954     669  Subscriber             June   \n",
       "519699            -122.392706     117  Subscriber             June   \n",
       "519692            -122.400869      77  Subscriber             June   \n",
       "519696            -122.403071     316  Subscriber             June   \n",
       "\n",
       "       start_time_weekday  start_time_hour  \n",
       "519697                Wed                9  \n",
       "519698                Wed                9  \n",
       "519699                Wed                9  \n",
       "519692                Wed                9  \n",
       "519696                Wed                9  "
      ]
     },
     "execution_count": 24,
     "metadata": {},
     "output_type": "execute_result"
    }
   ],
   "source": [
    "df_clean.head()"
   ]
  },
  {
   "cell_type": "code",
   "execution_count": 25,
   "metadata": {},
   "outputs": [
    {
     "data": {
      "text/html": [
       "<div>\n",
       "<style scoped>\n",
       "    .dataframe tbody tr th:only-of-type {\n",
       "        vertical-align: middle;\n",
       "    }\n",
       "\n",
       "    .dataframe tbody tr th {\n",
       "        vertical-align: top;\n",
       "    }\n",
       "\n",
       "    .dataframe thead th {\n",
       "        text-align: right;\n",
       "    }\n",
       "</style>\n",
       "<table border=\"1\" class=\"dataframe\">\n",
       "  <thead>\n",
       "    <tr style=\"text-align: right;\">\n",
       "      <th></th>\n",
       "      <th>duration_sec</th>\n",
       "      <th>start_time</th>\n",
       "      <th>end_time</th>\n",
       "      <th>start_station_id</th>\n",
       "      <th>start_station_name</th>\n",
       "      <th>start_station_latitude</th>\n",
       "      <th>start_station_longitude</th>\n",
       "      <th>end_station_id</th>\n",
       "      <th>end_station_name</th>\n",
       "      <th>end_station_latitude</th>\n",
       "      <th>end_station_longitude</th>\n",
       "      <th>bike_id</th>\n",
       "      <th>user_type</th>\n",
       "      <th>start_time_month</th>\n",
       "      <th>start_time_weekday</th>\n",
       "      <th>start_time_hour</th>\n",
       "    </tr>\n",
       "  </thead>\n",
       "  <tbody>\n",
       "    <tr>\n",
       "      <td>15</td>\n",
       "      <td>1544</td>\n",
       "      <td>2017-12-31 23:53:38.943</td>\n",
       "      <td>2018-01-01 00:19:23.047</td>\n",
       "      <td>14</td>\n",
       "      <td>Clay St at Battery St</td>\n",
       "      <td>37.795001</td>\n",
       "      <td>-122.399970</td>\n",
       "      <td>27</td>\n",
       "      <td>Beale St at Harrison St</td>\n",
       "      <td>37.788059</td>\n",
       "      <td>-122.391865</td>\n",
       "      <td>558</td>\n",
       "      <td>Subscriber</td>\n",
       "      <td>December</td>\n",
       "      <td>Sun</td>\n",
       "      <td>23</td>\n",
       "    </tr>\n",
       "    <tr>\n",
       "      <td>22</td>\n",
       "      <td>422</td>\n",
       "      <td>2017-12-31 23:54:25.337</td>\n",
       "      <td>2018-01-01 00:01:27.354</td>\n",
       "      <td>139</td>\n",
       "      <td>Garfield Square (25th St at Harrison St)</td>\n",
       "      <td>37.751017</td>\n",
       "      <td>-122.411901</td>\n",
       "      <td>99</td>\n",
       "      <td>Folsom St at 15th St</td>\n",
       "      <td>37.767037</td>\n",
       "      <td>-122.415443</td>\n",
       "      <td>2415</td>\n",
       "      <td>Subscriber</td>\n",
       "      <td>December</td>\n",
       "      <td>Sun</td>\n",
       "      <td>23</td>\n",
       "    </tr>\n",
       "    <tr>\n",
       "      <td>16</td>\n",
       "      <td>1474</td>\n",
       "      <td>2017-12-31 23:54:40.146</td>\n",
       "      <td>2018-01-01 00:19:14.351</td>\n",
       "      <td>14</td>\n",
       "      <td>Clay St at Battery St</td>\n",
       "      <td>37.795001</td>\n",
       "      <td>-122.399970</td>\n",
       "      <td>27</td>\n",
       "      <td>Beale St at Harrison St</td>\n",
       "      <td>37.788059</td>\n",
       "      <td>-122.391865</td>\n",
       "      <td>3646</td>\n",
       "      <td>Subscriber</td>\n",
       "      <td>December</td>\n",
       "      <td>Sun</td>\n",
       "      <td>23</td>\n",
       "    </tr>\n",
       "    <tr>\n",
       "      <td>17</td>\n",
       "      <td>1397</td>\n",
       "      <td>2017-12-31 23:55:09.686</td>\n",
       "      <td>2018-01-01 00:18:26.721</td>\n",
       "      <td>78</td>\n",
       "      <td>Folsom St at 9th St</td>\n",
       "      <td>37.773717</td>\n",
       "      <td>-122.411647</td>\n",
       "      <td>15</td>\n",
       "      <td>San Francisco Ferry Building (Harry Bridges Pl...</td>\n",
       "      <td>37.795392</td>\n",
       "      <td>-122.394203</td>\n",
       "      <td>1667</td>\n",
       "      <td>Customer</td>\n",
       "      <td>December</td>\n",
       "      <td>Sun</td>\n",
       "      <td>23</td>\n",
       "    </tr>\n",
       "    <tr>\n",
       "      <td>20</td>\n",
       "      <td>386</td>\n",
       "      <td>2017-12-31 23:59:01.261</td>\n",
       "      <td>2018-01-01 00:05:27.809</td>\n",
       "      <td>317</td>\n",
       "      <td>San Salvador St at 9th St</td>\n",
       "      <td>37.333955</td>\n",
       "      <td>-121.877349</td>\n",
       "      <td>296</td>\n",
       "      <td>5th St at Virginia St</td>\n",
       "      <td>37.325998</td>\n",
       "      <td>-121.877120</td>\n",
       "      <td>1603</td>\n",
       "      <td>Subscriber</td>\n",
       "      <td>December</td>\n",
       "      <td>Sun</td>\n",
       "      <td>23</td>\n",
       "    </tr>\n",
       "  </tbody>\n",
       "</table>\n",
       "</div>"
      ],
      "text/plain": [
       "    duration_sec              start_time                end_time  \\\n",
       "15          1544 2017-12-31 23:53:38.943 2018-01-01 00:19:23.047   \n",
       "22           422 2017-12-31 23:54:25.337 2018-01-01 00:01:27.354   \n",
       "16          1474 2017-12-31 23:54:40.146 2018-01-01 00:19:14.351   \n",
       "17          1397 2017-12-31 23:55:09.686 2018-01-01 00:18:26.721   \n",
       "20           386 2017-12-31 23:59:01.261 2018-01-01 00:05:27.809   \n",
       "\n",
       "   start_station_id                        start_station_name  \\\n",
       "15               14                     Clay St at Battery St   \n",
       "22              139  Garfield Square (25th St at Harrison St)   \n",
       "16               14                     Clay St at Battery St   \n",
       "17               78                       Folsom St at 9th St   \n",
       "20              317                 San Salvador St at 9th St   \n",
       "\n",
       "    start_station_latitude  start_station_longitude end_station_id  \\\n",
       "15               37.795001              -122.399970             27   \n",
       "22               37.751017              -122.411901             99   \n",
       "16               37.795001              -122.399970             27   \n",
       "17               37.773717              -122.411647             15   \n",
       "20               37.333955              -121.877349            296   \n",
       "\n",
       "                                     end_station_name  end_station_latitude  \\\n",
       "15                            Beale St at Harrison St             37.788059   \n",
       "22                               Folsom St at 15th St             37.767037   \n",
       "16                            Beale St at Harrison St             37.788059   \n",
       "17  San Francisco Ferry Building (Harry Bridges Pl...             37.795392   \n",
       "20                              5th St at Virginia St             37.325998   \n",
       "\n",
       "    end_station_longitude bike_id   user_type start_time_month  \\\n",
       "15            -122.391865     558  Subscriber         December   \n",
       "22            -122.415443    2415  Subscriber         December   \n",
       "16            -122.391865    3646  Subscriber         December   \n",
       "17            -122.394203    1667    Customer         December   \n",
       "20            -121.877120    1603  Subscriber         December   \n",
       "\n",
       "   start_time_weekday  start_time_hour  \n",
       "15                Sun               23  \n",
       "22                Sun               23  \n",
       "16                Sun               23  \n",
       "17                Sun               23  \n",
       "20                Sun               23  "
      ]
     },
     "execution_count": 25,
     "metadata": {},
     "output_type": "execute_result"
    }
   ],
   "source": [
    "df_clean.tail()"
   ]
  },
  {
   "cell_type": "markdown",
   "metadata": {},
   "source": [
    "**Define:** Let's convert `duration_sec` column into `duration_min` column"
   ]
  },
  {
   "cell_type": "markdown",
   "metadata": {},
   "source": [
    "**Code**"
   ]
  },
  {
   "cell_type": "code",
   "execution_count": 26,
   "metadata": {},
   "outputs": [],
   "source": [
    "df_clean['duration_min'] = df_clean['duration_sec']/60\n",
    "df_clean['duration_min'] = df_clean['duration_min'].astype(int)"
   ]
  },
  {
   "cell_type": "markdown",
   "metadata": {},
   "source": [
    "**Test**"
   ]
  },
  {
   "cell_type": "code",
   "execution_count": 27,
   "metadata": {},
   "outputs": [
    {
     "data": {
      "text/html": [
       "<div>\n",
       "<style scoped>\n",
       "    .dataframe tbody tr th:only-of-type {\n",
       "        vertical-align: middle;\n",
       "    }\n",
       "\n",
       "    .dataframe tbody tr th {\n",
       "        vertical-align: top;\n",
       "    }\n",
       "\n",
       "    .dataframe thead th {\n",
       "        text-align: right;\n",
       "    }\n",
       "</style>\n",
       "<table border=\"1\" class=\"dataframe\">\n",
       "  <thead>\n",
       "    <tr style=\"text-align: right;\">\n",
       "      <th></th>\n",
       "      <th>duration_sec</th>\n",
       "      <th>start_time</th>\n",
       "      <th>end_time</th>\n",
       "      <th>start_station_id</th>\n",
       "      <th>start_station_name</th>\n",
       "      <th>start_station_latitude</th>\n",
       "      <th>start_station_longitude</th>\n",
       "      <th>end_station_id</th>\n",
       "      <th>end_station_name</th>\n",
       "      <th>end_station_latitude</th>\n",
       "      <th>end_station_longitude</th>\n",
       "      <th>bike_id</th>\n",
       "      <th>user_type</th>\n",
       "      <th>start_time_month</th>\n",
       "      <th>start_time_weekday</th>\n",
       "      <th>start_time_hour</th>\n",
       "      <th>duration_min</th>\n",
       "    </tr>\n",
       "  </thead>\n",
       "  <tbody>\n",
       "    <tr>\n",
       "      <td>519697</td>\n",
       "      <td>424</td>\n",
       "      <td>2017-06-28 09:47:36.347</td>\n",
       "      <td>2017-06-28 09:54:41.187</td>\n",
       "      <td>21</td>\n",
       "      <td>Montgomery St BART Station (Market St at 2nd St)</td>\n",
       "      <td>37.789625</td>\n",
       "      <td>-122.400811</td>\n",
       "      <td>48</td>\n",
       "      <td>2nd St at S Park St</td>\n",
       "      <td>37.782411</td>\n",
       "      <td>-122.392706</td>\n",
       "      <td>240</td>\n",
       "      <td>Subscriber</td>\n",
       "      <td>June</td>\n",
       "      <td>Wed</td>\n",
       "      <td>9</td>\n",
       "      <td>7</td>\n",
       "    </tr>\n",
       "    <tr>\n",
       "      <td>519698</td>\n",
       "      <td>366</td>\n",
       "      <td>2017-06-28 09:47:41.664</td>\n",
       "      <td>2017-06-28 09:53:47.715</td>\n",
       "      <td>58</td>\n",
       "      <td>Market St at 10th St</td>\n",
       "      <td>37.776619</td>\n",
       "      <td>-122.417385</td>\n",
       "      <td>59</td>\n",
       "      <td>S Van Ness Ave at Market St</td>\n",
       "      <td>37.774814</td>\n",
       "      <td>-122.418954</td>\n",
       "      <td>669</td>\n",
       "      <td>Subscriber</td>\n",
       "      <td>June</td>\n",
       "      <td>Wed</td>\n",
       "      <td>9</td>\n",
       "      <td>6</td>\n",
       "    </tr>\n",
       "    <tr>\n",
       "      <td>519699</td>\n",
       "      <td>188</td>\n",
       "      <td>2017-06-28 09:49:46.377</td>\n",
       "      <td>2017-06-28 09:52:55.338</td>\n",
       "      <td>25</td>\n",
       "      <td>Howard St at 2nd St</td>\n",
       "      <td>37.787522</td>\n",
       "      <td>-122.397405</td>\n",
       "      <td>48</td>\n",
       "      <td>2nd St at S Park St</td>\n",
       "      <td>37.782411</td>\n",
       "      <td>-122.392706</td>\n",
       "      <td>117</td>\n",
       "      <td>Subscriber</td>\n",
       "      <td>June</td>\n",
       "      <td>Wed</td>\n",
       "      <td>9</td>\n",
       "      <td>3</td>\n",
       "    </tr>\n",
       "    <tr>\n",
       "      <td>519692</td>\n",
       "      <td>1201</td>\n",
       "      <td>2017-06-28 09:50:59.175</td>\n",
       "      <td>2017-06-28 10:11:00.359</td>\n",
       "      <td>81</td>\n",
       "      <td>Berry St at 4th St</td>\n",
       "      <td>37.775880</td>\n",
       "      <td>-122.393170</td>\n",
       "      <td>9</td>\n",
       "      <td>Broadway at Battery St</td>\n",
       "      <td>37.798572</td>\n",
       "      <td>-122.400869</td>\n",
       "      <td>77</td>\n",
       "      <td>Subscriber</td>\n",
       "      <td>June</td>\n",
       "      <td>Wed</td>\n",
       "      <td>9</td>\n",
       "      <td>20</td>\n",
       "    </tr>\n",
       "    <tr>\n",
       "      <td>519696</td>\n",
       "      <td>431</td>\n",
       "      <td>2017-06-28 09:56:39.631</td>\n",
       "      <td>2017-06-28 10:03:51.090</td>\n",
       "      <td>66</td>\n",
       "      <td>3rd St at Townsend St</td>\n",
       "      <td>37.778742</td>\n",
       "      <td>-122.392741</td>\n",
       "      <td>321</td>\n",
       "      <td>5th at Folsom</td>\n",
       "      <td>37.780146</td>\n",
       "      <td>-122.403071</td>\n",
       "      <td>316</td>\n",
       "      <td>Subscriber</td>\n",
       "      <td>June</td>\n",
       "      <td>Wed</td>\n",
       "      <td>9</td>\n",
       "      <td>7</td>\n",
       "    </tr>\n",
       "  </tbody>\n",
       "</table>\n",
       "</div>"
      ],
      "text/plain": [
       "        duration_sec              start_time                end_time  \\\n",
       "519697           424 2017-06-28 09:47:36.347 2017-06-28 09:54:41.187   \n",
       "519698           366 2017-06-28 09:47:41.664 2017-06-28 09:53:47.715   \n",
       "519699           188 2017-06-28 09:49:46.377 2017-06-28 09:52:55.338   \n",
       "519692          1201 2017-06-28 09:50:59.175 2017-06-28 10:11:00.359   \n",
       "519696           431 2017-06-28 09:56:39.631 2017-06-28 10:03:51.090   \n",
       "\n",
       "       start_station_id                                start_station_name  \\\n",
       "519697               21  Montgomery St BART Station (Market St at 2nd St)   \n",
       "519698               58                              Market St at 10th St   \n",
       "519699               25                               Howard St at 2nd St   \n",
       "519692               81                                Berry St at 4th St   \n",
       "519696               66                             3rd St at Townsend St   \n",
       "\n",
       "        start_station_latitude  start_station_longitude end_station_id  \\\n",
       "519697               37.789625              -122.400811             48   \n",
       "519698               37.776619              -122.417385             59   \n",
       "519699               37.787522              -122.397405             48   \n",
       "519692               37.775880              -122.393170              9   \n",
       "519696               37.778742              -122.392741            321   \n",
       "\n",
       "                   end_station_name  end_station_latitude  \\\n",
       "519697          2nd St at S Park St             37.782411   \n",
       "519698  S Van Ness Ave at Market St             37.774814   \n",
       "519699          2nd St at S Park St             37.782411   \n",
       "519692       Broadway at Battery St             37.798572   \n",
       "519696                5th at Folsom             37.780146   \n",
       "\n",
       "        end_station_longitude bike_id   user_type start_time_month  \\\n",
       "519697            -122.392706     240  Subscriber             June   \n",
       "519698            -122.418954     669  Subscriber             June   \n",
       "519699            -122.392706     117  Subscriber             June   \n",
       "519692            -122.400869      77  Subscriber             June   \n",
       "519696            -122.403071     316  Subscriber             June   \n",
       "\n",
       "       start_time_weekday  start_time_hour  duration_min  \n",
       "519697                Wed                9             7  \n",
       "519698                Wed                9             6  \n",
       "519699                Wed                9             3  \n",
       "519692                Wed                9            20  \n",
       "519696                Wed                9             7  "
      ]
     },
     "execution_count": 27,
     "metadata": {},
     "output_type": "execute_result"
    }
   ],
   "source": [
    "df_clean.head()"
   ]
  },
  {
   "cell_type": "markdown",
   "metadata": {},
   "source": [
    "**We have got information about latitude and Longitude of start station and end station. We can find the distance travelled by each bike ride. Let's find it.** "
   ]
  },
  {
   "cell_type": "markdown",
   "metadata": {},
   "source": [
    "**Define:** Find the distance travelled by each bike ride based on information given on latitude and longtitude. "
   ]
  },
  {
   "cell_type": "markdown",
   "metadata": {},
   "source": [
    "**Code**"
   ]
  },
  {
   "cell_type": "code",
   "execution_count": 28,
   "metadata": {},
   "outputs": [],
   "source": [
    "from math import sin, cos, sqrt, atan2, radians\n",
    "\n",
    "def distance(lat1, lon1, lat2, lon2):\n",
    "    R = 6373.0   \n",
    "    lat1 = radians(lat1)\n",
    "    lon1 = radians(lon1)\n",
    "    lat2 = radians(lat2)\n",
    "    lon2 = radians(lon2)\n",
    "\n",
    "    dlon = lon2 - lon1\n",
    "    dlat = lat2 - lat1\n",
    "\n",
    "    a = sin(dlat / 2)**2 + cos(lat1) * cos(lat2) * sin(dlon / 2)**2\n",
    "    c = 2 * atan2(sqrt(a), sqrt(1 - a))\n",
    "\n",
    "    distance = R * c\n",
    "    return np.float64(round(1000*distance))"
   ]
  },
  {
   "cell_type": "code",
   "execution_count": 29,
   "metadata": {},
   "outputs": [],
   "source": [
    "df_clean['distance'] = df_clean.apply(lambda row: distance(row['start_station_latitude'], row['start_station_longitude'],\n",
    "                                                           row['end_station_latitude'], row['end_station_longitude']), axis=1)"
   ]
  },
  {
   "cell_type": "markdown",
   "metadata": {},
   "source": [
    "**Test**"
   ]
  },
  {
   "cell_type": "code",
   "execution_count": 30,
   "metadata": {},
   "outputs": [
    {
     "data": {
      "text/html": [
       "<div>\n",
       "<style scoped>\n",
       "    .dataframe tbody tr th:only-of-type {\n",
       "        vertical-align: middle;\n",
       "    }\n",
       "\n",
       "    .dataframe tbody tr th {\n",
       "        vertical-align: top;\n",
       "    }\n",
       "\n",
       "    .dataframe thead th {\n",
       "        text-align: right;\n",
       "    }\n",
       "</style>\n",
       "<table border=\"1\" class=\"dataframe\">\n",
       "  <thead>\n",
       "    <tr style=\"text-align: right;\">\n",
       "      <th></th>\n",
       "      <th>duration_sec</th>\n",
       "      <th>start_time</th>\n",
       "      <th>end_time</th>\n",
       "      <th>start_station_id</th>\n",
       "      <th>start_station_name</th>\n",
       "      <th>start_station_latitude</th>\n",
       "      <th>start_station_longitude</th>\n",
       "      <th>end_station_id</th>\n",
       "      <th>end_station_name</th>\n",
       "      <th>end_station_latitude</th>\n",
       "      <th>end_station_longitude</th>\n",
       "      <th>bike_id</th>\n",
       "      <th>user_type</th>\n",
       "      <th>start_time_month</th>\n",
       "      <th>start_time_weekday</th>\n",
       "      <th>start_time_hour</th>\n",
       "      <th>duration_min</th>\n",
       "      <th>distance</th>\n",
       "    </tr>\n",
       "  </thead>\n",
       "  <tbody>\n",
       "    <tr>\n",
       "      <td>519697</td>\n",
       "      <td>424</td>\n",
       "      <td>2017-06-28 09:47:36.347</td>\n",
       "      <td>2017-06-28 09:54:41.187</td>\n",
       "      <td>21</td>\n",
       "      <td>Montgomery St BART Station (Market St at 2nd St)</td>\n",
       "      <td>37.789625</td>\n",
       "      <td>-122.400811</td>\n",
       "      <td>48</td>\n",
       "      <td>2nd St at S Park St</td>\n",
       "      <td>37.782411</td>\n",
       "      <td>-122.392706</td>\n",
       "      <td>240</td>\n",
       "      <td>Subscriber</td>\n",
       "      <td>June</td>\n",
       "      <td>Wed</td>\n",
       "      <td>9</td>\n",
       "      <td>7</td>\n",
       "      <td>1073.0</td>\n",
       "    </tr>\n",
       "    <tr>\n",
       "      <td>519698</td>\n",
       "      <td>366</td>\n",
       "      <td>2017-06-28 09:47:41.664</td>\n",
       "      <td>2017-06-28 09:53:47.715</td>\n",
       "      <td>58</td>\n",
       "      <td>Market St at 10th St</td>\n",
       "      <td>37.776619</td>\n",
       "      <td>-122.417385</td>\n",
       "      <td>59</td>\n",
       "      <td>S Van Ness Ave at Market St</td>\n",
       "      <td>37.774814</td>\n",
       "      <td>-122.418954</td>\n",
       "      <td>669</td>\n",
       "      <td>Subscriber</td>\n",
       "      <td>June</td>\n",
       "      <td>Wed</td>\n",
       "      <td>9</td>\n",
       "      <td>6</td>\n",
       "      <td>244.0</td>\n",
       "    </tr>\n",
       "    <tr>\n",
       "      <td>519699</td>\n",
       "      <td>188</td>\n",
       "      <td>2017-06-28 09:49:46.377</td>\n",
       "      <td>2017-06-28 09:52:55.338</td>\n",
       "      <td>25</td>\n",
       "      <td>Howard St at 2nd St</td>\n",
       "      <td>37.787522</td>\n",
       "      <td>-122.397405</td>\n",
       "      <td>48</td>\n",
       "      <td>2nd St at S Park St</td>\n",
       "      <td>37.782411</td>\n",
       "      <td>-122.392706</td>\n",
       "      <td>117</td>\n",
       "      <td>Subscriber</td>\n",
       "      <td>June</td>\n",
       "      <td>Wed</td>\n",
       "      <td>9</td>\n",
       "      <td>3</td>\n",
       "      <td>703.0</td>\n",
       "    </tr>\n",
       "    <tr>\n",
       "      <td>519692</td>\n",
       "      <td>1201</td>\n",
       "      <td>2017-06-28 09:50:59.175</td>\n",
       "      <td>2017-06-28 10:11:00.359</td>\n",
       "      <td>81</td>\n",
       "      <td>Berry St at 4th St</td>\n",
       "      <td>37.775880</td>\n",
       "      <td>-122.393170</td>\n",
       "      <td>9</td>\n",
       "      <td>Broadway at Battery St</td>\n",
       "      <td>37.798572</td>\n",
       "      <td>-122.400869</td>\n",
       "      <td>77</td>\n",
       "      <td>Subscriber</td>\n",
       "      <td>June</td>\n",
       "      <td>Wed</td>\n",
       "      <td>9</td>\n",
       "      <td>20</td>\n",
       "      <td>2613.0</td>\n",
       "    </tr>\n",
       "    <tr>\n",
       "      <td>519696</td>\n",
       "      <td>431</td>\n",
       "      <td>2017-06-28 09:56:39.631</td>\n",
       "      <td>2017-06-28 10:03:51.090</td>\n",
       "      <td>66</td>\n",
       "      <td>3rd St at Townsend St</td>\n",
       "      <td>37.778742</td>\n",
       "      <td>-122.392741</td>\n",
       "      <td>321</td>\n",
       "      <td>5th at Folsom</td>\n",
       "      <td>37.780146</td>\n",
       "      <td>-122.403071</td>\n",
       "      <td>316</td>\n",
       "      <td>Subscriber</td>\n",
       "      <td>June</td>\n",
       "      <td>Wed</td>\n",
       "      <td>9</td>\n",
       "      <td>7</td>\n",
       "      <td>921.0</td>\n",
       "    </tr>\n",
       "  </tbody>\n",
       "</table>\n",
       "</div>"
      ],
      "text/plain": [
       "        duration_sec              start_time                end_time  \\\n",
       "519697           424 2017-06-28 09:47:36.347 2017-06-28 09:54:41.187   \n",
       "519698           366 2017-06-28 09:47:41.664 2017-06-28 09:53:47.715   \n",
       "519699           188 2017-06-28 09:49:46.377 2017-06-28 09:52:55.338   \n",
       "519692          1201 2017-06-28 09:50:59.175 2017-06-28 10:11:00.359   \n",
       "519696           431 2017-06-28 09:56:39.631 2017-06-28 10:03:51.090   \n",
       "\n",
       "       start_station_id                                start_station_name  \\\n",
       "519697               21  Montgomery St BART Station (Market St at 2nd St)   \n",
       "519698               58                              Market St at 10th St   \n",
       "519699               25                               Howard St at 2nd St   \n",
       "519692               81                                Berry St at 4th St   \n",
       "519696               66                             3rd St at Townsend St   \n",
       "\n",
       "        start_station_latitude  start_station_longitude end_station_id  \\\n",
       "519697               37.789625              -122.400811             48   \n",
       "519698               37.776619              -122.417385             59   \n",
       "519699               37.787522              -122.397405             48   \n",
       "519692               37.775880              -122.393170              9   \n",
       "519696               37.778742              -122.392741            321   \n",
       "\n",
       "                   end_station_name  end_station_latitude  \\\n",
       "519697          2nd St at S Park St             37.782411   \n",
       "519698  S Van Ness Ave at Market St             37.774814   \n",
       "519699          2nd St at S Park St             37.782411   \n",
       "519692       Broadway at Battery St             37.798572   \n",
       "519696                5th at Folsom             37.780146   \n",
       "\n",
       "        end_station_longitude bike_id   user_type start_time_month  \\\n",
       "519697            -122.392706     240  Subscriber             June   \n",
       "519698            -122.418954     669  Subscriber             June   \n",
       "519699            -122.392706     117  Subscriber             June   \n",
       "519692            -122.400869      77  Subscriber             June   \n",
       "519696            -122.403071     316  Subscriber             June   \n",
       "\n",
       "       start_time_weekday  start_time_hour  duration_min  distance  \n",
       "519697                Wed                9             7    1073.0  \n",
       "519698                Wed                9             6     244.0  \n",
       "519699                Wed                9             3     703.0  \n",
       "519692                Wed                9            20    2613.0  \n",
       "519696                Wed                9             7     921.0  "
      ]
     },
     "execution_count": 30,
     "metadata": {},
     "output_type": "execute_result"
    }
   ],
   "source": [
    "df_clean.head()"
   ]
  },
  {
   "cell_type": "markdown",
   "metadata": {},
   "source": [
    "**The above DataFrame is clean and tidy dataset and it contains everything required to perform Data Eploration and Data Visualization. Let's export it to csv.**"
   ]
  },
  {
   "cell_type": "code",
   "execution_count": 31,
   "metadata": {},
   "outputs": [],
   "source": [
    "df_clean.to_csv('2017-fordgobike-tripdata_modified.csv', index=False)"
   ]
  },
  {
   "cell_type": "markdown",
   "metadata": {},
   "source": [
    "### What is the structure of your dataset?\n",
    "\n",
    "> The Ford GoBike System Data is straightforward and intuitive to understand. This data has been collected efficiently, providing a valuable collection of data to work with and draw conclusions from. \n",
    "\n",
    ">This notebook uses data collected from June 28th, 2017 through December 31st, 2017. There were approximately 519,700 bike rides in the San Francisco Bay area of California, USA. \n",
    "\n",
    "> The column header descriptions are as follows:\n",
    "- Trip Duration (seconds)\n",
    "    - Start Time and Date\n",
    "    - End Time and Date\n",
    "- Start Station ID\n",
    "    - Start Station Name\n",
    "    - Start Station Latitude\n",
    "    - Start Station Longitude\n",
    "- End Station ID\n",
    "    - End Station Name\n",
    "    - End Station Latitude\n",
    "    - End Station Longitude\n",
    "- Bike ID\n",
    "- User Type (Subscriber or Customer)\n",
    "- Distance travelled (in meters)\n",
    "    \n",
    "> I added the following columns in my cleaning efforts:\t\n",
    "- Start Time Month\t\t\n",
    "- Start Time Weekday\t\n",
    "- Start Time Hour\n",
    "- Duration in Minutes\n",
    "- Distance Travelled (in meters)"
   ]
  },
  {
   "cell_type": "markdown",
   "metadata": {},
   "source": [
    "### What is/are the main feature(s) of interest in your dataset?\n",
    "\n",
    "> Following are the columns of my interest: \n",
    "- Trip Duration\n",
    "- User Type \n",
    "- Start Time Month\n",
    "- Start Time Weekday\n",
    "- Start Time Hour \n",
    "- Distance Travelled \n",
    "> \n",
    "We can uncover plenty of hidden insights and patterns in our data using the above columns. "
   ]
  },
  {
   "cell_type": "markdown",
   "metadata": {},
   "source": [
    "### What features in the dataset do you think will help support your investigation into your feature(s) of interest?\n",
    "> Trip Duration in minutes and Start Time Hour will be helpful to support my investigation. We can use these to find out when the bikes are in low or high demand. Such information are imperative to drive business decisions. The information about the distance travelled will also be useful in the investigation."
   ]
  },
  {
   "cell_type": "markdown",
   "metadata": {},
   "source": [
    "## Univariate Exploration"
   ]
  },
  {
   "cell_type": "markdown",
   "metadata": {},
   "source": [
    "### What proportion of users are subscribers and customers?"
   ]
  },
  {
   "cell_type": "code",
   "execution_count": 32,
   "metadata": {},
   "outputs": [
    {
     "data": {
      "image/png": "[encoded data removed]",
      "text/plain": [
       "<Figure size 432x288 with 1 Axes>"
      ]
     },
     "metadata": {},
     "output_type": "display_data"
    }
   ],
   "source": [
    "sorted_counts = df_clean['user_type'].value_counts()\n",
    "plt.pie(sorted_counts, labels=None, startangle=90, counterclock=False, autopct='%.1f%%');\n",
    "plt.axis('square');\n",
    "plt.title('Proportion of Subscribers and Customers');\n",
    "plt.legend(sorted_counts.index);"
   ]
  },
  {
   "cell_type": "markdown",
   "metadata": {},
   "source": [
    "> **Among the users of Ford GoBike, there are 78.7% subscribers compared to only 21.3% customers.**"
   ]
  },
  {
   "cell_type": "markdown",
   "metadata": {},
   "source": [
    "### What is the day wise usage of the Ford GoBike system?"
   ]
  },
  {
   "cell_type": "code",
   "execution_count": 33,
   "metadata": {},
   "outputs": [],
   "source": [
    "base_color = sb.color_palette()[0]\n",
    "base_color1 = sb.color_palette()[1]"
   ]
  },
  {
   "cell_type": "code",
   "execution_count": 34,
   "metadata": {},
   "outputs": [
    {
     "data": {
      "image/png": "[encoded data removed]",
      "text/plain": [
       "<Figure size 432x288 with 1 Axes>"
      ]
     },
     "metadata": {
      "needs_background": "light"
     },
     "output_type": "display_data"
    }
   ],
   "source": [
    "sb.countplot(data=df_clean, x='start_time_weekday', color=base_color);\n",
    "plt.xlabel('Weekday');\n",
    "plt.ylabel('Bike Usage Count');\n",
    "plt.title('Day wise usage of the Ford GoBike system');"
   ]
  },
  {
   "cell_type": "markdown",
   "metadata": {},
   "source": [
    "> **The usage drops significantly on Saturdays and Sundays suggesting that the Ford GoBike system is primarily used for communting purpose on working days.**"
   ]
  },
  {
   "cell_type": "markdown",
   "metadata": {},
   "source": [
    "### What is the month wise usage of the Ford GoBike system?"
   ]
  },
  {
   "cell_type": "code",
   "execution_count": 35,
   "metadata": {},
   "outputs": [
    {
     "data": {
      "image/png": "[encoded data removed]",
      "text/plain": [
       "<Figure size 432x288 with 1 Axes>"
      ]
     },
     "metadata": {
      "needs_background": "light"
     },
     "output_type": "display_data"
    }
   ],
   "source": [
    "sb.countplot(data=df_clean, x='start_time_month', color=base_color);\n",
    "plt.xlabel('Month');\n",
    "plt.ylabel('Bike Usage Count');\n",
    "plt.title('Month wise usage of the Ford GoBike system');\n",
    "plt.xticks(rotation=15);"
   ]
  },
  {
   "cell_type": "markdown",
   "metadata": {},
   "source": [
    "Something looks wrong about June month. I guess we have less data for the month of June. Let's check."
   ]
  },
  {
   "cell_type": "code",
   "execution_count": 36,
   "metadata": {},
   "outputs": [
    {
     "data": {
      "text/plain": [
       "October      108937\n",
       "September     98558\n",
       "November      95612\n",
       "December      86539\n",
       "August        83292\n",
       "July          44073\n",
       "June           2689\n",
       "Name: start_time_month, dtype: int64"
      ]
     },
     "execution_count": 36,
     "metadata": {},
     "output_type": "execute_result"
    }
   ],
   "source": [
    "df_clean['start_time_month'].value_counts()"
   ]
  },
  {
   "cell_type": "markdown",
   "metadata": {},
   "source": [
    "There are very less rows for the month of June. Since we have sorted the rows according to the `start_time` column, let's look at the first date."
   ]
  },
  {
   "cell_type": "code",
   "execution_count": 37,
   "metadata": {},
   "outputs": [
    {
     "data": {
      "text/plain": [
       "519697   2017-06-28 09:47:36.347\n",
       "Name: start_time, dtype: datetime64[ns]"
      ]
     },
     "execution_count": 37,
     "metadata": {},
     "output_type": "execute_result"
    }
   ],
   "source": [
    "df_clean['start_time'].head(1)"
   ]
  },
  {
   "cell_type": "markdown",
   "metadata": {},
   "source": [
    "We have data from 28th June, 2017. "
   ]
  },
  {
   "cell_type": "markdown",
   "metadata": {},
   "source": [
    "### What is the usage by hour of the Ford GoBike system?"
   ]
  },
  {
   "cell_type": "code",
   "execution_count": 38,
   "metadata": {},
   "outputs": [
    {
     "data": {
      "image/png": "[encoded data removed]",
      "text/plain": [
       "<Figure size 432x288 with 1 Axes>"
      ]
     },
     "metadata": {
      "needs_background": "light"
     },
     "output_type": "display_data"
    }
   ],
   "source": [
    "sb.countplot(data=df_clean, x='start_time_hour', color=base_color);\n",
    "plt.xlabel('Start Time Hour');\n",
    "plt.ylabel('Bike Usage Count');\n",
    "plt.title('Usage by hour of the Ford GoBike system');"
   ]
  },
  {
   "cell_type": "markdown",
   "metadata": {},
   "source": [
    "> **8:00 AM and 5:00 PM are the two peak hours which have most bikers.**"
   ]
  },
  {
   "cell_type": "markdown",
   "metadata": {},
   "source": [
    "### From which station do the most bikers start their trip? "
   ]
  },
  {
   "cell_type": "code",
   "execution_count": 39,
   "metadata": {},
   "outputs": [
    {
     "data": {
      "image/png": "[encoded data removed]",
      "text/plain": [
       "<Figure size 432x288 with 1 Axes>"
      ]
     },
     "metadata": {
      "needs_background": "light"
     },
     "output_type": "display_data"
    }
   ],
   "source": [
    "start_station_name = df_clean['start_station_name'].value_counts().head(10).index\n",
    "sb.countplot(data = df_clean, y = 'start_station_name', color = base_color, order = start_station_name)\n",
    "plt.title('Start Station vs Count');\n",
    "plt.xlabel('Count');\n",
    "plt.ylabel('Start Station Names');"
   ]
  },
  {
   "cell_type": "markdown",
   "metadata": {},
   "source": [
    "> **Most people start their trips from `San Francisco Ferry Building` station.**"
   ]
  },
  {
   "cell_type": "markdown",
   "metadata": {},
   "source": [
    "### To which station do the most bikers end their trip?"
   ]
  },
  {
   "cell_type": "code",
   "execution_count": 40,
   "metadata": {},
   "outputs": [
    {
     "data": {
      "image/png": "[encoded data removed]",
      "text/plain": [
       "<Figure size 432x288 with 1 Axes>"
      ]
     },
     "metadata": {
      "needs_background": "light"
     },
     "output_type": "display_data"
    }
   ],
   "source": [
    "end_station_name = df_clean['end_station_name'].value_counts().head(10).index\n",
    "sb.countplot(data = df_clean, y = 'end_station_name', color = base_color, order = end_station_name)\n",
    "plt.title('End Station vs Count');\n",
    "plt.xlabel('Count');\n",
    "plt.ylabel('End Station Names');"
   ]
  },
  {
   "cell_type": "markdown",
   "metadata": {},
   "source": [
    "> **`San Francisco Caltrain` station is used most by bikers to end their trips.**"
   ]
  },
  {
   "cell_type": "markdown",
   "metadata": {},
   "source": [
    "### What is the distribution of duration (in minute) of bike rides?"
   ]
  },
  {
   "cell_type": "code",
   "execution_count": 41,
   "metadata": {},
   "outputs": [
    {
     "data": {
      "image/png": "[encoded data removed]",
      "text/plain": [
       "<Figure size 432x288 with 1 Axes>"
      ]
     },
     "metadata": {
      "needs_background": "light"
     },
     "output_type": "display_data"
    }
   ],
   "source": [
    "sb.distplot(df_clean['duration_min'], color=base_color);\n",
    "plt.title('Distribution of duration of bike rides');\n",
    "plt.xlabel('Duration in minutes');"
   ]
  },
  {
   "cell_type": "markdown",
   "metadata": {},
   "source": [
    "> The plot is not evenly distributed. Hence, we will have to change the scale for better visualization."
   ]
  },
  {
   "cell_type": "code",
   "execution_count": 42,
   "metadata": {},
   "outputs": [
    {
     "data": {
      "text/plain": [
       "count    519700.000000\n",
       "mean         17.825757\n",
       "std          57.403474\n",
       "min           1.000000\n",
       "25%           6.000000\n",
       "50%           9.000000\n",
       "75%          15.000000\n",
       "max        1439.000000\n",
       "Name: duration_min, dtype: float64"
      ]
     },
     "execution_count": 42,
     "metadata": {},
     "output_type": "execute_result"
    }
   ],
   "source": [
    "df_clean['duration_min'].describe()"
   ]
  },
  {
   "cell_type": "code",
   "execution_count": 43,
   "metadata": {},
   "outputs": [
    {
     "data": {
      "image/png": "[encoded data removed]",
      "text/plain": [
       "<Figure size 432x432 with 1 Axes>"
      ]
     },
     "metadata": {
      "needs_background": "light"
     },
     "output_type": "display_data"
    }
   ],
   "source": [
    "binsize = 1\n",
    "bins = np.arange(0, 57, binsize) # Standard Deviation is 57\n",
    "plt.figure(figsize=[6, 6])\n",
    "plt.hist(data = df_clean, x='duration_min', bins=bins)\n",
    "plt.title('Distribution of duration of bike rides')\n",
    "plt.xlabel('Duration in minutes')\n",
    "plt.ylabel('Count')\n",
    "plt.show()"
   ]
  },
  {
   "cell_type": "markdown",
   "metadata": {},
   "source": [
    "> **We observe that most of the trips have a duration of around 8 minutes.**"
   ]
  },
  {
   "cell_type": "markdown",
   "metadata": {},
   "source": [
    "### What is the distribution of distance travelled by bike rides?"
   ]
  },
  {
   "cell_type": "code",
   "execution_count": 44,
   "metadata": {},
   "outputs": [
    {
     "data": {
      "image/png": "[encoded data removed]",
      "text/plain": [
       "<Figure size 432x288 with 1 Axes>"
      ]
     },
     "metadata": {
      "needs_background": "light"
     },
     "output_type": "display_data"
    }
   ],
   "source": [
    "sb.distplot(df_clean['distance'], color=base_color);\n",
    "plt.title('Distribution of distance travelled by bike rides');\n",
    "plt.xlabel('Distance in meters');"
   ]
  },
  {
   "cell_type": "markdown",
   "metadata": {},
   "source": [
    "> The plot is not evenly distributed. Hence, we will have to change the scale for better visualization."
   ]
  },
  {
   "cell_type": "code",
   "execution_count": 45,
   "metadata": {},
   "outputs": [
    {
     "data": {
      "text/plain": [
       "count    519700.000000\n",
       "mean       1587.575950\n",
       "std        1010.709491\n",
       "min           0.000000\n",
       "25%         900.000000\n",
       "50%        1401.000000\n",
       "75%        2073.000000\n",
       "max       68208.000000\n",
       "Name: distance, dtype: float64"
      ]
     },
     "execution_count": 45,
     "metadata": {},
     "output_type": "execute_result"
    }
   ],
   "source": [
    "df_clean['distance'].describe()"
   ]
  },
  {
   "cell_type": "code",
   "execution_count": 46,
   "metadata": {},
   "outputs": [
    {
     "data": {
      "text/plain": [
       "1010.7094906882227"
      ]
     },
     "execution_count": 46,
     "metadata": {},
     "output_type": "execute_result"
    }
   ],
   "source": [
    "df_clean['distance'].describe()['std']"
   ]
  },
  {
   "cell_type": "code",
   "execution_count": 47,
   "metadata": {},
   "outputs": [
    {
     "data": {
      "image/png": "[encoded data removed]",
      "text/plain": [
       "<Figure size 432x432 with 1 Axes>"
      ]
     },
     "metadata": {
      "needs_background": "light"
     },
     "output_type": "display_data"
    }
   ],
   "source": [
    "binsize = 50\n",
    "bins = np.arange(0, df_clean['distance'].describe()['std']*6, binsize) # Standard Deviation is 1010\n",
    "plt.figure(figsize=[6, 6])\n",
    "plt.hist(data = df_clean, x='distance', bins=bins)\n",
    "plt.title('Distribution of distance travelled by bike rides')\n",
    "plt.xlabel('Distance Travelled in meters')\n",
    "plt.ylabel('Count')\n",
    "plt.show()"
   ]
  },
  {
   "cell_type": "markdown",
   "metadata": {},
   "source": [
    "> We can see from the above distribution that there's unusually high data points in the first bin. Let's explore more of this. "
   ]
  },
  {
   "cell_type": "code",
   "execution_count": 48,
   "metadata": {},
   "outputs": [
    {
     "data": {
      "text/html": [
       "<div>\n",
       "<style scoped>\n",
       "    .dataframe tbody tr th:only-of-type {\n",
       "        vertical-align: middle;\n",
       "    }\n",
       "\n",
       "    .dataframe tbody tr th {\n",
       "        vertical-align: top;\n",
       "    }\n",
       "\n",
       "    .dataframe thead th {\n",
       "        text-align: right;\n",
       "    }\n",
       "</style>\n",
       "<table border=\"1\" class=\"dataframe\">\n",
       "  <thead>\n",
       "    <tr style=\"text-align: right;\">\n",
       "      <th></th>\n",
       "      <th>duration_sec</th>\n",
       "      <th>start_time</th>\n",
       "      <th>end_time</th>\n",
       "      <th>start_station_id</th>\n",
       "      <th>start_station_name</th>\n",
       "      <th>start_station_latitude</th>\n",
       "      <th>start_station_longitude</th>\n",
       "      <th>end_station_id</th>\n",
       "      <th>end_station_name</th>\n",
       "      <th>end_station_latitude</th>\n",
       "      <th>end_station_longitude</th>\n",
       "      <th>bike_id</th>\n",
       "      <th>user_type</th>\n",
       "      <th>start_time_month</th>\n",
       "      <th>start_time_weekday</th>\n",
       "      <th>start_time_hour</th>\n",
       "      <th>duration_min</th>\n",
       "      <th>distance</th>\n",
       "    </tr>\n",
       "  </thead>\n",
       "  <tbody>\n",
       "    <tr>\n",
       "      <td>519671</td>\n",
       "      <td>73</td>\n",
       "      <td>2017-06-28 10:44:17.050</td>\n",
       "      <td>2017-06-28 10:45:30.337</td>\n",
       "      <td>50</td>\n",
       "      <td>2nd St at Townsend St - Coming Soon</td>\n",
       "      <td>37.780526</td>\n",
       "      <td>-122.390288</td>\n",
       "      <td>50</td>\n",
       "      <td>2nd St at Townsend St - Coming Soon</td>\n",
       "      <td>37.780526</td>\n",
       "      <td>-122.390288</td>\n",
       "      <td>278</td>\n",
       "      <td>Subscriber</td>\n",
       "      <td>June</td>\n",
       "      <td>Wed</td>\n",
       "      <td>10</td>\n",
       "      <td>1</td>\n",
       "      <td>0.0</td>\n",
       "    </tr>\n",
       "    <tr>\n",
       "      <td>519631</td>\n",
       "      <td>3819</td>\n",
       "      <td>2017-06-28 10:44:43.717</td>\n",
       "      <td>2017-06-28 11:48:23.636</td>\n",
       "      <td>48</td>\n",
       "      <td>2nd St at S Park St</td>\n",
       "      <td>37.782411</td>\n",
       "      <td>-122.392706</td>\n",
       "      <td>48</td>\n",
       "      <td>2nd St at S Park St</td>\n",
       "      <td>37.782411</td>\n",
       "      <td>-122.392706</td>\n",
       "      <td>331</td>\n",
       "      <td>Customer</td>\n",
       "      <td>June</td>\n",
       "      <td>Wed</td>\n",
       "      <td>10</td>\n",
       "      <td>63</td>\n",
       "      <td>0.0</td>\n",
       "    </tr>\n",
       "    <tr>\n",
       "      <td>519670</td>\n",
       "      <td>123</td>\n",
       "      <td>2017-06-28 10:45:45.282</td>\n",
       "      <td>2017-06-28 10:47:49.158</td>\n",
       "      <td>15</td>\n",
       "      <td>San Francisco Ferry Building (Harry Bridges Pl...</td>\n",
       "      <td>37.795392</td>\n",
       "      <td>-122.394203</td>\n",
       "      <td>15</td>\n",
       "      <td>San Francisco Ferry Building (Harry Bridges Pl...</td>\n",
       "      <td>37.795392</td>\n",
       "      <td>-122.394203</td>\n",
       "      <td>920</td>\n",
       "      <td>Subscriber</td>\n",
       "      <td>June</td>\n",
       "      <td>Wed</td>\n",
       "      <td>10</td>\n",
       "      <td>2</td>\n",
       "      <td>0.0</td>\n",
       "    </tr>\n",
       "    <tr>\n",
       "      <td>519664</td>\n",
       "      <td>72</td>\n",
       "      <td>2017-06-28 10:52:55.763</td>\n",
       "      <td>2017-06-28 10:54:08.290</td>\n",
       "      <td>42</td>\n",
       "      <td>San Francisco City Hall (Polk St at Grove St)</td>\n",
       "      <td>37.778650</td>\n",
       "      <td>-122.418230</td>\n",
       "      <td>42</td>\n",
       "      <td>San Francisco City Hall (Polk St at Grove St)</td>\n",
       "      <td>37.778650</td>\n",
       "      <td>-122.418230</td>\n",
       "      <td>25</td>\n",
       "      <td>Subscriber</td>\n",
       "      <td>June</td>\n",
       "      <td>Wed</td>\n",
       "      <td>10</td>\n",
       "      <td>1</td>\n",
       "      <td>0.0</td>\n",
       "    </tr>\n",
       "    <tr>\n",
       "      <td>519658</td>\n",
       "      <td>214</td>\n",
       "      <td>2017-06-28 10:56:53.364</td>\n",
       "      <td>2017-06-28 11:00:27.965</td>\n",
       "      <td>42</td>\n",
       "      <td>San Francisco City Hall (Polk St at Grove St)</td>\n",
       "      <td>37.778650</td>\n",
       "      <td>-122.418230</td>\n",
       "      <td>42</td>\n",
       "      <td>San Francisco City Hall (Polk St at Grove St)</td>\n",
       "      <td>37.778650</td>\n",
       "      <td>-122.418230</td>\n",
       "      <td>799</td>\n",
       "      <td>Subscriber</td>\n",
       "      <td>June</td>\n",
       "      <td>Wed</td>\n",
       "      <td>10</td>\n",
       "      <td>3</td>\n",
       "      <td>0.0</td>\n",
       "    </tr>\n",
       "    <tr>\n",
       "      <td>...</td>\n",
       "      <td>...</td>\n",
       "      <td>...</td>\n",
       "      <td>...</td>\n",
       "      <td>...</td>\n",
       "      <td>...</td>\n",
       "      <td>...</td>\n",
       "      <td>...</td>\n",
       "      <td>...</td>\n",
       "      <td>...</td>\n",
       "      <td>...</td>\n",
       "      <td>...</td>\n",
       "      <td>...</td>\n",
       "      <td>...</td>\n",
       "      <td>...</td>\n",
       "      <td>...</td>\n",
       "      <td>...</td>\n",
       "      <td>...</td>\n",
       "      <td>...</td>\n",
       "    </tr>\n",
       "    <tr>\n",
       "      <td>51</td>\n",
       "      <td>575</td>\n",
       "      <td>2017-12-31 23:17:57.867</td>\n",
       "      <td>2017-12-31 23:27:32.880</td>\n",
       "      <td>6</td>\n",
       "      <td>The Embarcadero at Sansome St</td>\n",
       "      <td>37.804770</td>\n",
       "      <td>-122.403234</td>\n",
       "      <td>6</td>\n",
       "      <td>The Embarcadero at Sansome St</td>\n",
       "      <td>37.804770</td>\n",
       "      <td>-122.403234</td>\n",
       "      <td>1568</td>\n",
       "      <td>Customer</td>\n",
       "      <td>December</td>\n",
       "      <td>Sun</td>\n",
       "      <td>23</td>\n",
       "      <td>9</td>\n",
       "      <td>0.0</td>\n",
       "    </tr>\n",
       "    <tr>\n",
       "      <td>9</td>\n",
       "      <td>4238</td>\n",
       "      <td>2017-12-31 23:35:38.145</td>\n",
       "      <td>2018-01-01 00:46:17.053</td>\n",
       "      <td>20</td>\n",
       "      <td>Mechanics Monument Plaza (Market St at Bush St)</td>\n",
       "      <td>37.791300</td>\n",
       "      <td>-122.399051</td>\n",
       "      <td>20</td>\n",
       "      <td>Mechanics Monument Plaza (Market St at Bush St)</td>\n",
       "      <td>37.791300</td>\n",
       "      <td>-122.399051</td>\n",
       "      <td>2543</td>\n",
       "      <td>Customer</td>\n",
       "      <td>December</td>\n",
       "      <td>Sun</td>\n",
       "      <td>23</td>\n",
       "      <td>70</td>\n",
       "      <td>0.0</td>\n",
       "    </tr>\n",
       "    <tr>\n",
       "      <td>8</td>\n",
       "      <td>4150</td>\n",
       "      <td>2017-12-31 23:37:07.548</td>\n",
       "      <td>2018-01-01 00:46:18.308</td>\n",
       "      <td>20</td>\n",
       "      <td>Mechanics Monument Plaza (Market St at Bush St)</td>\n",
       "      <td>37.791300</td>\n",
       "      <td>-122.399051</td>\n",
       "      <td>20</td>\n",
       "      <td>Mechanics Monument Plaza (Market St at Bush St)</td>\n",
       "      <td>37.791300</td>\n",
       "      <td>-122.399051</td>\n",
       "      <td>3125</td>\n",
       "      <td>Customer</td>\n",
       "      <td>December</td>\n",
       "      <td>Sun</td>\n",
       "      <td>23</td>\n",
       "      <td>69</td>\n",
       "      <td>0.0</td>\n",
       "    </tr>\n",
       "    <tr>\n",
       "      <td>7</td>\n",
       "      <td>4334</td>\n",
       "      <td>2017-12-31 23:46:37.196</td>\n",
       "      <td>2018-01-01 00:58:51.211</td>\n",
       "      <td>284</td>\n",
       "      <td>Yerba Buena Center for the Arts (Howard St at ...</td>\n",
       "      <td>37.784872</td>\n",
       "      <td>-122.400876</td>\n",
       "      <td>284</td>\n",
       "      <td>Yerba Buena Center for the Arts (Howard St at ...</td>\n",
       "      <td>37.784872</td>\n",
       "      <td>-122.400876</td>\n",
       "      <td>1503</td>\n",
       "      <td>Customer</td>\n",
       "      <td>December</td>\n",
       "      <td>Sun</td>\n",
       "      <td>23</td>\n",
       "      <td>72</td>\n",
       "      <td>0.0</td>\n",
       "    </tr>\n",
       "    <tr>\n",
       "      <td>6</td>\n",
       "      <td>4507</td>\n",
       "      <td>2017-12-31 23:49:28.422</td>\n",
       "      <td>2018-01-01 01:04:35.619</td>\n",
       "      <td>259</td>\n",
       "      <td>Addison St at Fourth St</td>\n",
       "      <td>37.866249</td>\n",
       "      <td>-122.299371</td>\n",
       "      <td>259</td>\n",
       "      <td>Addison St at Fourth St</td>\n",
       "      <td>37.866249</td>\n",
       "      <td>-122.299371</td>\n",
       "      <td>3539</td>\n",
       "      <td>Customer</td>\n",
       "      <td>December</td>\n",
       "      <td>Sun</td>\n",
       "      <td>23</td>\n",
       "      <td>75</td>\n",
       "      <td>0.0</td>\n",
       "    </tr>\n",
       "  </tbody>\n",
       "</table>\n",
       "<p>18134 rows × 18 columns</p>\n",
       "</div>"
      ],
      "text/plain": [
       "        duration_sec              start_time                end_time  \\\n",
       "519671            73 2017-06-28 10:44:17.050 2017-06-28 10:45:30.337   \n",
       "519631          3819 2017-06-28 10:44:43.717 2017-06-28 11:48:23.636   \n",
       "519670           123 2017-06-28 10:45:45.282 2017-06-28 10:47:49.158   \n",
       "519664            72 2017-06-28 10:52:55.763 2017-06-28 10:54:08.290   \n",
       "519658           214 2017-06-28 10:56:53.364 2017-06-28 11:00:27.965   \n",
       "...              ...                     ...                     ...   \n",
       "51               575 2017-12-31 23:17:57.867 2017-12-31 23:27:32.880   \n",
       "9               4238 2017-12-31 23:35:38.145 2018-01-01 00:46:17.053   \n",
       "8               4150 2017-12-31 23:37:07.548 2018-01-01 00:46:18.308   \n",
       "7               4334 2017-12-31 23:46:37.196 2018-01-01 00:58:51.211   \n",
       "6               4507 2017-12-31 23:49:28.422 2018-01-01 01:04:35.619   \n",
       "\n",
       "       start_station_id                                 start_station_name  \\\n",
       "519671               50                2nd St at Townsend St - Coming Soon   \n",
       "519631               48                                2nd St at S Park St   \n",
       "519670               15  San Francisco Ferry Building (Harry Bridges Pl...   \n",
       "519664               42      San Francisco City Hall (Polk St at Grove St)   \n",
       "519658               42      San Francisco City Hall (Polk St at Grove St)   \n",
       "...                 ...                                                ...   \n",
       "51                    6                      The Embarcadero at Sansome St   \n",
       "9                    20    Mechanics Monument Plaza (Market St at Bush St)   \n",
       "8                    20    Mechanics Monument Plaza (Market St at Bush St)   \n",
       "7                   284  Yerba Buena Center for the Arts (Howard St at ...   \n",
       "6                   259                            Addison St at Fourth St   \n",
       "\n",
       "        start_station_latitude  start_station_longitude end_station_id  \\\n",
       "519671               37.780526              -122.390288             50   \n",
       "519631               37.782411              -122.392706             48   \n",
       "519670               37.795392              -122.394203             15   \n",
       "519664               37.778650              -122.418230             42   \n",
       "519658               37.778650              -122.418230             42   \n",
       "...                        ...                      ...            ...   \n",
       "51                   37.804770              -122.403234              6   \n",
       "9                    37.791300              -122.399051             20   \n",
       "8                    37.791300              -122.399051             20   \n",
       "7                    37.784872              -122.400876            284   \n",
       "6                    37.866249              -122.299371            259   \n",
       "\n",
       "                                         end_station_name  \\\n",
       "519671                2nd St at Townsend St - Coming Soon   \n",
       "519631                                2nd St at S Park St   \n",
       "519670  San Francisco Ferry Building (Harry Bridges Pl...   \n",
       "519664      San Francisco City Hall (Polk St at Grove St)   \n",
       "519658      San Francisco City Hall (Polk St at Grove St)   \n",
       "...                                                   ...   \n",
       "51                          The Embarcadero at Sansome St   \n",
       "9         Mechanics Monument Plaza (Market St at Bush St)   \n",
       "8         Mechanics Monument Plaza (Market St at Bush St)   \n",
       "7       Yerba Buena Center for the Arts (Howard St at ...   \n",
       "6                                 Addison St at Fourth St   \n",
       "\n",
       "        end_station_latitude  end_station_longitude bike_id   user_type  \\\n",
       "519671             37.780526            -122.390288     278  Subscriber   \n",
       "519631             37.782411            -122.392706     331    Customer   \n",
       "519670             37.795392            -122.394203     920  Subscriber   \n",
       "519664             37.778650            -122.418230      25  Subscriber   \n",
       "519658             37.778650            -122.418230     799  Subscriber   \n",
       "...                      ...                    ...     ...         ...   \n",
       "51                 37.804770            -122.403234    1568    Customer   \n",
       "9                  37.791300            -122.399051    2543    Customer   \n",
       "8                  37.791300            -122.399051    3125    Customer   \n",
       "7                  37.784872            -122.400876    1503    Customer   \n",
       "6                  37.866249            -122.299371    3539    Customer   \n",
       "\n",
       "       start_time_month start_time_weekday  start_time_hour  duration_min  \\\n",
       "519671             June                Wed               10             1   \n",
       "519631             June                Wed               10            63   \n",
       "519670             June                Wed               10             2   \n",
       "519664             June                Wed               10             1   \n",
       "519658             June                Wed               10             3   \n",
       "...                 ...                ...              ...           ...   \n",
       "51             December                Sun               23             9   \n",
       "9              December                Sun               23            70   \n",
       "8              December                Sun               23            69   \n",
       "7              December                Sun               23            72   \n",
       "6              December                Sun               23            75   \n",
       "\n",
       "        distance  \n",
       "519671       0.0  \n",
       "519631       0.0  \n",
       "519670       0.0  \n",
       "519664       0.0  \n",
       "519658       0.0  \n",
       "...          ...  \n",
       "51           0.0  \n",
       "9            0.0  \n",
       "8            0.0  \n",
       "7            0.0  \n",
       "6            0.0  \n",
       "\n",
       "[18134 rows x 18 columns]"
      ]
     },
     "execution_count": 48,
     "metadata": {},
     "output_type": "execute_result"
    }
   ],
   "source": [
    "df_clean[df_clean['distance'] == 0.0]"
   ]
  },
  {
   "cell_type": "markdown",
   "metadata": {},
   "source": [
    "> **As we can see that there are 18134 rows where the distance travelled is 0. This has to do with the fact that start station and end station are same. So basically, the distance column doesn't give us the distance travelled. Rather it gives us the displacement.**"
   ]
  },
  {
   "cell_type": "markdown",
   "metadata": {},
   "source": [
    "### Discuss the distribution(s) of your variable(s) of interest. Were there any unusual points? Did you need to perform any transformations?\n",
    "\n",
    "> Due to thorough cleaning efforts, there were no unusual points during he exploratory and visualization phase. Although there was some anomaly in the `Month wise usage of the Ford GoBike system` chart, it was found that we had less data for the month of June. <br><br>\n",
    "> There were unusually many data points whose start station and end station were same."
   ]
  },
  {
   "cell_type": "markdown",
   "metadata": {},
   "source": [
    "### Of the features you investigated, were there any unusual distributions? Did you perform any operations on the data to tidy, adjust, or change the form of the data? If so, why did you do this?\n",
    "\n",
    "> Nothing seems to be unusual with respect to distributions for the features I have investigated. The data was already tidy. <br><br>\n",
    "> Edit: The distribution of Distance travelled was unusual. On investigation, it was found out that there were many data points whose start station and end station were same."
   ]
  },
  {
   "cell_type": "markdown",
   "metadata": {},
   "source": [
    "## Bivariate Exploration"
   ]
  },
  {
   "cell_type": "markdown",
   "metadata": {},
   "source": [
    "### What is the monthly bike ride count per user type?"
   ]
  },
  {
   "cell_type": "code",
   "execution_count": 49,
   "metadata": {},
   "outputs": [
    {
     "data": {
      "image/png": "[encoded data removed]",
      "text/plain": [
       "<Figure size 432x288 with 1 Axes>"
      ]
     },
     "metadata": {
      "needs_background": "light"
     },
     "output_type": "display_data"
    }
   ],
   "source": [
    "user_type_count = df_clean.groupby([\"start_time_month\", \"user_type\"]).size().reset_index()\n",
    "#plt.figure(figsize=(6,7))\n",
    "palette = {'Subscriber':base_color, 'Customer':base_color1}\n",
    "axis = sb.pointplot(x='start_time_month', y=0, hue='user_type', palette=palette, scale=.7, data=user_type_count)\n",
    "plt.title('The monthly bike rides per user type')\n",
    "plt.xlabel('Month')\n",
    "plt.ylabel('Count')\n",
    "plt.xticks(rotation=15);\n",
    "leg = axis.legend()\n",
    "leg.set_title('User Type')"
   ]
  },
  {
   "cell_type": "markdown",
   "metadata": {},
   "source": [
    "> **Subscriber rides seems to be increasing but there is decrease in usage after the month of October. I think it is because of the cold weather.**"
   ]
  },
  {
   "cell_type": "markdown",
   "metadata": {},
   "source": [
    "### What is the day wise usage by user type?"
   ]
  },
  {
   "cell_type": "code",
   "execution_count": 50,
   "metadata": {},
   "outputs": [
    {
     "data": {
      "image/png": "[encoded data removed]",
      "text/plain": [
       "<Figure size 432x288 with 1 Axes>"
      ]
     },
     "metadata": {
      "needs_background": "light"
     },
     "output_type": "display_data"
    }
   ],
   "source": [
    "sb.countplot(data=df_clean, x='start_time_weekday', hue='user_type');\n",
    "plt.xlabel('Day of Week');\n",
    "plt.ylabel('Count');\n",
    "plt.title('Day wise usage of customers vs subscribers');"
   ]
  },
  {
   "cell_type": "markdown",
   "metadata": {},
   "source": [
    "> **From the above plot we can infer that on weekends customer usage increases.**"
   ]
  },
  {
   "cell_type": "markdown",
   "metadata": {},
   "source": [
    "### What is the relationship between User type and Start Hour?"
   ]
  },
  {
   "cell_type": "code",
   "execution_count": 51,
   "metadata": {},
   "outputs": [
    {
     "data": {
      "image/png": "[encoded data removed]",
      "text/plain": [
       "<Figure size 720x360 with 1 Axes>"
      ]
     },
     "metadata": {
      "needs_background": "light"
     },
     "output_type": "display_data"
    }
   ],
   "source": [
    "plt.figure(figsize = [10, 5])\n",
    "sb.countplot(data = df_clean, x = 'start_time_hour', hue = 'user_type')\n",
    "plt.legend();\n",
    "plt.title('User Type wise Start Hour');\n",
    "plt.xlabel('Hour of the day');\n",
    "plt.ylabel('Count');"
   ]
  },
  {
   "cell_type": "markdown",
   "metadata": {},
   "source": [
    "> **Subscribers start their trip mostly during 8-9 am and 4-6 pm which is usually the working hours.**"
   ]
  },
  {
   "cell_type": "markdown",
   "metadata": {},
   "source": [
    "### What is the relationship between Duration of bike rides and User type?"
   ]
  },
  {
   "cell_type": "markdown",
   "metadata": {},
   "source": [
    "> Let's plot a Violin Plot as well as Box Plot to investigate this relataionship"
   ]
  },
  {
   "cell_type": "code",
   "execution_count": 52,
   "metadata": {},
   "outputs": [
    {
     "data": {
      "image/png": "[encoded data removed]",
      "text/plain": [
       "<Figure size 720x360 with 2 Axes>"
      ]
     },
     "metadata": {
      "needs_background": "light"
     },
     "output_type": "display_data"
    }
   ],
   "source": [
    "plt.figure(figsize = [10, 5])\n",
    "\n",
    "# left plot: violin plot\n",
    "plt.subplot(1, 2, 1)\n",
    "ax1 = sb.violinplot(data = df_clean.query(\"duration_min < 57\"), x = 'user_type', y = 'duration_min',\n",
    "                    inner = 'quartile', color = base_color)\n",
    "plt.xlabel('User Type');\n",
    "plt.ylabel('Duration in minutes');\n",
    "# right plot: box plot\n",
    "plt.subplot(1, 2, 2)\n",
    "sb.boxplot(data = df_clean, x = 'user_type', y = 'duration_min', color = base_color)\n",
    "plt.ylim(ax1.get_ylim()) # set y-axis limits to be same as left plot\n",
    "plt.xlabel('User Type');\n",
    "plt.ylabel('Duration in minutes');\n",
    "plt.suptitle('Distribution of duration of bike rides and user type', fontsize=15);"
   ]
  },
  {
   "cell_type": "markdown",
   "metadata": {},
   "source": [
    "> **From the above plots, we can see that the median time travelled by the subscribers is less than that of customers.**"
   ]
  },
  {
   "cell_type": "markdown",
   "metadata": {},
   "source": [
    "### How does the distribution of travel time (duration) looks like for each user type?"
   ]
  },
  {
   "cell_type": "code",
   "execution_count": 53,
   "metadata": {},
   "outputs": [
    {
     "data": {
      "text/plain": [
       "1031.9618344987837"
      ]
     },
     "execution_count": 53,
     "metadata": {},
     "output_type": "execute_result"
    }
   ],
   "source": [
    "# Standard Deviation\n",
    "df_clean.query('distance')['distance'].describe()['std']"
   ]
  },
  {
   "cell_type": "code",
   "execution_count": 54,
   "metadata": {},
   "outputs": [
    {
     "data": {
      "image/png": "[encoded data removed]",
      "text/plain": [
       "<Figure size 432x288 with 1 Axes>"
      ]
     },
     "metadata": {
      "needs_background": "light"
     },
     "output_type": "display_data"
    }
   ],
   "source": [
    "sb.violinplot(data = df_clean.query(\"distance < 1031 and distance > 30\"),\n",
    "              x = 'user_type', y = 'distance', inner = 'quartile', color = base_color)\n",
    "plt.xlabel('User Type');\n",
    "plt.ylabel('Duration in minutes');\n",
    "plt.title('Distribution of travel time for each user type', fontsize=15);"
   ]
  },
  {
   "cell_type": "markdown",
   "metadata": {},
   "source": [
    "> **The distribution follows the same pattern for time travelled for each user type. The median time travelled by each user turn is almost same.**"
   ]
  },
  {
   "cell_type": "markdown",
   "metadata": {},
   "source": [
    "### Talk about some of the relationships you observed in this part of the investigation. How did the feature(s) of interest vary with other features in the dataset?\n",
    "\n",
    "> Adding the user type to the analysis revealed different behavior usage between customers and subscribers. The data suggests that the customers are casual riders such as tourists or students on a vacation or holiday. This is evident from the above investigation that customer usage increases on the weekends. In contrast, the investigation suggests that subscribers are daily commuters or full time students who use the Ford GoBike system during weekdays and mostly for shorter distances. They mostly rent bike before or after a typical work or school day. \n",
    "\n",
    "### Did you observe any interesting relationships between the other features (not the main feature(s) of interest)?\n",
    "\n",
    "> There is a difference in the trip duration between customers and subscribers. Customers trips are usually longer than for subscribers, most probably due to the fact they prefer bike rides during weekends, which may be for longer trips around the surrounding area. Subscribers use the system mainly for commute purposes so they prefer quick, short rides to and from work."
   ]
  },
  {
   "cell_type": "markdown",
   "metadata": {},
   "source": [
    "## Multivariate Exploration"
   ]
  },
  {
   "cell_type": "markdown",
   "metadata": {},
   "source": [
    "### What is the hourly usage during weekdays for customers and subscribers?"
   ]
  },
  {
   "cell_type": "code",
   "execution_count": 55,
   "metadata": {},
   "outputs": [
    {
     "data": {
      "image/png": "[encoded data removed]",
      "text/plain": [
       "<Figure size 1152x576 with 4 Axes>"
      ]
     },
     "metadata": {
      "needs_background": "light"
     },
     "output_type": "display_data"
    }
   ],
   "source": [
    "plt.figure(figsize = (16,8));\n",
    "plt.subplot(2, 1, 1);\n",
    "customers = df_clean.query('user_type == \"Customer\"')\n",
    "ct_counts = customers.groupby(['start_time_weekday', 'start_time_hour']).size()\n",
    "ct_counts = ct_counts.reset_index(name='count')\n",
    "ct_counts = ct_counts.pivot(index='start_time_weekday', columns='start_time_hour', values='count')\n",
    "sb.heatmap(ct_counts, cmap='BuPu');\n",
    "plt.title('Customer', fontsize=15);\n",
    "plt.xlabel('Hour of Day', fontsize=12);\n",
    "plt.ylabel('Day of Week', fontsize=12);\n",
    "plt.tight_layout();\n",
    "\n",
    "plt.subplot(2, 1, 2)\n",
    "subscribers = df_clean.query('user_type == \"Subscriber\"')\n",
    "st_counts = subscribers.groupby(['start_time_weekday', 'start_time_hour']).size()\n",
    "st_counts = st_counts.reset_index(name='count')\n",
    "st_counts = st_counts.pivot(index='start_time_weekday', columns='start_time_hour', values='count')\n",
    "sb.heatmap(st_counts, cmap='BuPu');\n",
    "plt.title('Subscriber', fontsize=15);\n",
    "plt.xlabel('Hour of the day', fontsize=12);\n",
    "plt.ylabel('Day of the Week', fontsize=12);\n",
    "plt.tight_layout();\n",
    "plt.suptitle('Hourly usage during weekdays for customers and subscribers', y=1.03, fontsize=17);"
   ]
  },
  {
   "cell_type": "markdown",
   "metadata": {},
   "source": [
    "> **The above plot clearly shows the difference in usage behavior between customers and subscribers. Subscribers usage is mostly during the rush hours of morning and evening. Subcriber Usage during the weekends decrease drastically suggesting that they use bike rides mostly for work purpose. In contrast, customers go on bike rides mostly on weekends suggesting that they use it for leisure purpose.**"
   ]
  },
  {
   "cell_type": "markdown",
   "metadata": {},
   "source": [
    "### Talk about some of the relationships you observed in this part of the investigation. Were there features that strengthened each other in terms of looking at your feature(s) of interest?\n",
    "\n",
    "> The relationship between `Hour of the day`, `Day of the week`, and `User Type` was obsevered in the above plot. The short period of usage for subscribers corresponds to their high concentration on rush hours i.e. Monday through Friday, which is mostly for the work. The customer usage shows that they're taking advantage of the bike sharing system quite differently from the subscribers, heavily over the weekends and in the afternoon, mainly for city tour or leisure purpose.\n",
    "\n",
    "### Were there any interesting or surprising interactions between features?\n",
    "\n",
    "> The interactions between features are all supplementing each other and quite make sense when looked at combined, there's no big surprise observed."
   ]
  },
  {
   "cell_type": "markdown",
   "metadata": {},
   "source": [
    "## References"
   ]
  },
  {
   "cell_type": "markdown",
   "metadata": {},
   "source": [
    "[StackOverFlow](https://stackoverflow.com/questions/19412462/getting-distance-between-two-points-based-on-latitude-longitude)<br>\n",
    "[Pandas documentation](https://pandas.pydata.org/docs/user_guide/)<br>\n",
    "[Numpy documentation](https://numpy.org/doc/stable/user/)<br>\n",
    "[Matplotlib documentation](https://matplotlib.org/3.2.1/tutorials/index.html)<br>\n",
    "[Seaborn documentation](https://seaborn.pydata.org/)<br>\n",
    "[Github](https://github.com/chelseymarie6/Communicate-Data-Findings/blob/master/Communicate_Data_Slide_Deck.ipynb)"
   ]
  },
  {
   "cell_type": "code",
   "execution_count": null,
   "metadata": {},
   "outputs": [],
   "source": []
  }
 ],
 "metadata": {
  "kernelspec": {
   "display_name": "Python 3",
   "language": "python",
   "name": "python3"
  },
  "language_info": {
   "codemirror_mode": {
    "name": "ipython",
    "version": 3
   },
   "file_extension": ".py",
   "mimetype": "text/x-python",
   "name": "python",
   "nbconvert_exporter": "python",
   "pygments_lexer": "ipython3",
   "version": "3.7.4"
  }
 },
 "nbformat": 4,
 "nbformat_minor": 4
}
